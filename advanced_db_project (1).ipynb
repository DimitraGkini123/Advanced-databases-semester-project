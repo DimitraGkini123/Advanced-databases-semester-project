{
 "cells": [
  {
   "cell_type": "code",
   "execution_count": null,
   "id": "64ff2a9a-2d51-4fea-b9d0-d204736ddcfa",
   "metadata": {},
   "outputs": [],
   "source": [
    "#Query 1"
   ]
  },
  {
   "cell_type": "code",
   "execution_count": 4,
   "id": "9d17c5fe-055a-4b17-973a-6dadeb88b914",
   "metadata": {
    "tags": []
   },
   "outputs": [
    {
     "data": {
      "text/html": [
       "Current session configs: <tt>{'conf': {'spark.sql.catalog.spark_catalog.type': 'hive', 'spark.executor.instances': '4', 'spark.executor.memory': '1g', 'spark.executor.cores': '1', 'spark.driver.memory': '2g'}, 'kind': 'pyspark'}</tt><br>"
      ],
      "text/plain": [
       "<IPython.core.display.HTML object>"
      ]
     },
     "metadata": {},
     "output_type": "display_data"
    },
    {
     "data": {
      "text/html": [
       "<table>\n",
       "<tr><th>ID</th><th>YARN Application ID</th><th>Kind</th><th>State</th><th>Spark UI</th><th>Driver log</th><th>User</th><th>Current session?</th></tr><tr><td>4084</td><td>application_1732639283265_4024</td><td>pyspark</td><td>idle</td><td><a target=\"_blank\" href=\"http://ip-192-168-1-36.eu-central-1.compute.internal:20888/proxy/application_1732639283265_4024/\">Link</a></td><td><a target=\"_blank\" href=\"http://ip-192-168-1-112.eu-central-1.compute.internal:8042/node/containerlogs/container_1732639283265_4024_01_000001/livy\">Link</a></td><td>None</td><td></td></tr><tr><td>4087</td><td>application_1732639283265_4027</td><td>pyspark</td><td>idle</td><td><a target=\"_blank\" href=\"http://ip-192-168-1-36.eu-central-1.compute.internal:20888/proxy/application_1732639283265_4027/\">Link</a></td><td><a target=\"_blank\" href=\"http://ip-192-168-1-91.eu-central-1.compute.internal:8042/node/containerlogs/container_1732639283265_4027_01_000001/livy\">Link</a></td><td>None</td><td></td></tr><tr><td>4093</td><td>application_1732639283265_4033</td><td>pyspark</td><td>idle</td><td><a target=\"_blank\" href=\"http://ip-192-168-1-36.eu-central-1.compute.internal:20888/proxy/application_1732639283265_4033/\">Link</a></td><td><a target=\"_blank\" href=\"http://ip-192-168-1-174.eu-central-1.compute.internal:8042/node/containerlogs/container_1732639283265_4033_01_000001/livy\">Link</a></td><td>None</td><td></td></tr><tr><td>4094</td><td>application_1732639283265_4034</td><td>pyspark</td><td>idle</td><td><a target=\"_blank\" href=\"http://ip-192-168-1-36.eu-central-1.compute.internal:20888/proxy/application_1732639283265_4034/\">Link</a></td><td><a target=\"_blank\" href=\"http://ip-192-168-1-166.eu-central-1.compute.internal:8042/node/containerlogs/container_1732639283265_4034_01_000002/livy\">Link</a></td><td>None</td><td></td></tr><tr><td>4104</td><td>application_1732639283265_4044</td><td>pyspark</td><td>idle</td><td><a target=\"_blank\" href=\"http://ip-192-168-1-36.eu-central-1.compute.internal:20888/proxy/application_1732639283265_4044/\">Link</a></td><td><a target=\"_blank\" href=\"http://ip-192-168-1-16.eu-central-1.compute.internal:8042/node/containerlogs/container_1732639283265_4044_01_000002/livy\">Link</a></td><td>None</td><td></td></tr><tr><td>4105</td><td>application_1732639283265_4045</td><td>pyspark</td><td>idle</td><td><a target=\"_blank\" href=\"http://ip-192-168-1-36.eu-central-1.compute.internal:20888/proxy/application_1732639283265_4045/\">Link</a></td><td><a target=\"_blank\" href=\"http://ip-192-168-1-227.eu-central-1.compute.internal:8042/node/containerlogs/container_1732639283265_4045_01_000001/livy\">Link</a></td><td>None</td><td></td></tr><tr><td>4106</td><td>application_1732639283265_4046</td><td>pyspark</td><td>idle</td><td><a target=\"_blank\" href=\"http://ip-192-168-1-36.eu-central-1.compute.internal:20888/proxy/application_1732639283265_4046/\">Link</a></td><td><a target=\"_blank\" href=\"http://ip-192-168-1-233.eu-central-1.compute.internal:8042/node/containerlogs/container_1732639283265_4046_01_000001/livy\">Link</a></td><td>None</td><td></td></tr><tr><td>4108</td><td>application_1732639283265_4048</td><td>pyspark</td><td>idle</td><td><a target=\"_blank\" href=\"http://ip-192-168-1-36.eu-central-1.compute.internal:20888/proxy/application_1732639283265_4048/\">Link</a></td><td><a target=\"_blank\" href=\"http://ip-192-168-1-174.eu-central-1.compute.internal:8042/node/containerlogs/container_1732639283265_4048_01_000001/livy\">Link</a></td><td>None</td><td></td></tr><tr><td>4111</td><td>application_1732639283265_4051</td><td>pyspark</td><td>idle</td><td><a target=\"_blank\" href=\"http://ip-192-168-1-36.eu-central-1.compute.internal:20888/proxy/application_1732639283265_4051/\">Link</a></td><td><a target=\"_blank\" href=\"http://ip-192-168-1-181.eu-central-1.compute.internal:8042/node/containerlogs/container_1732639283265_4051_01_000002/livy\">Link</a></td><td>None</td><td></td></tr><tr><td>4112</td><td>application_1732639283265_4052</td><td>pyspark</td><td>idle</td><td><a target=\"_blank\" href=\"http://ip-192-168-1-36.eu-central-1.compute.internal:20888/proxy/application_1732639283265_4052/\">Link</a></td><td><a target=\"_blank\" href=\"http://ip-192-168-1-247.eu-central-1.compute.internal:8042/node/containerlogs/container_1732639283265_4052_01_000001/livy\">Link</a></td><td>None</td><td></td></tr><tr><td>4115</td><td>application_1732639283265_4055</td><td>pyspark</td><td>idle</td><td><a target=\"_blank\" href=\"http://ip-192-168-1-36.eu-central-1.compute.internal:20888/proxy/application_1732639283265_4055/\">Link</a></td><td><a target=\"_blank\" href=\"http://ip-192-168-1-227.eu-central-1.compute.internal:8042/node/containerlogs/container_1732639283265_4055_01_000001/livy\">Link</a></td><td>None</td><td></td></tr><tr><td>4116</td><td>application_1732639283265_4056</td><td>pyspark</td><td>idle</td><td><a target=\"_blank\" href=\"http://ip-192-168-1-36.eu-central-1.compute.internal:20888/proxy/application_1732639283265_4056/\">Link</a></td><td><a target=\"_blank\" href=\"http://ip-192-168-1-193.eu-central-1.compute.internal:8042/node/containerlogs/container_1732639283265_4056_01_000001/livy\">Link</a></td><td>None</td><td></td></tr><tr><td>4117</td><td>application_1732639283265_4057</td><td>pyspark</td><td>idle</td><td><a target=\"_blank\" href=\"http://ip-192-168-1-36.eu-central-1.compute.internal:20888/proxy/application_1732639283265_4057/\">Link</a></td><td><a target=\"_blank\" href=\"http://ip-192-168-1-193.eu-central-1.compute.internal:8042/node/containerlogs/container_1732639283265_4057_01_000002/livy\">Link</a></td><td>None</td><td></td></tr><tr><td>4118</td><td>application_1732639283265_4058</td><td>pyspark</td><td>idle</td><td><a target=\"_blank\" href=\"http://ip-192-168-1-36.eu-central-1.compute.internal:20888/proxy/application_1732639283265_4058/\">Link</a></td><td><a target=\"_blank\" href=\"http://ip-192-168-1-166.eu-central-1.compute.internal:8042/node/containerlogs/container_1732639283265_4058_01_000002/livy\">Link</a></td><td>None</td><td></td></tr><tr><td>4119</td><td>application_1732639283265_4059</td><td>pyspark</td><td>idle</td><td><a target=\"_blank\" href=\"http://ip-192-168-1-36.eu-central-1.compute.internal:20888/proxy/application_1732639283265_4059/\">Link</a></td><td><a target=\"_blank\" href=\"http://ip-192-168-1-119.eu-central-1.compute.internal:8042/node/containerlogs/container_1732639283265_4059_01_000002/livy\">Link</a></td><td>None</td><td></td></tr><tr><td>4120</td><td>application_1732639283265_4060</td><td>pyspark</td><td>idle</td><td><a target=\"_blank\" href=\"http://ip-192-168-1-36.eu-central-1.compute.internal:20888/proxy/application_1732639283265_4060/\">Link</a></td><td><a target=\"_blank\" href=\"http://ip-192-168-1-174.eu-central-1.compute.internal:8042/node/containerlogs/container_1732639283265_4060_01_000001/livy\">Link</a></td><td>None</td><td></td></tr><tr><td>4123</td><td>application_1732639283265_4063</td><td>pyspark</td><td>idle</td><td><a target=\"_blank\" href=\"http://ip-192-168-1-36.eu-central-1.compute.internal:20888/proxy/application_1732639283265_4063/\">Link</a></td><td><a target=\"_blank\" href=\"http://ip-192-168-1-193.eu-central-1.compute.internal:8042/node/containerlogs/container_1732639283265_4063_01_000002/livy\">Link</a></td><td>None</td><td></td></tr><tr><td>4128</td><td>application_1732639283265_4068</td><td>pyspark</td><td>idle</td><td><a target=\"_blank\" href=\"http://ip-192-168-1-36.eu-central-1.compute.internal:20888/proxy/application_1732639283265_4068/\">Link</a></td><td><a target=\"_blank\" href=\"http://ip-192-168-1-119.eu-central-1.compute.internal:8042/node/containerlogs/container_1732639283265_4068_01_000001/livy\">Link</a></td><td>None</td><td></td></tr><tr><td>4129</td><td>application_1732639283265_4069</td><td>pyspark</td><td>idle</td><td><a target=\"_blank\" href=\"http://ip-192-168-1-36.eu-central-1.compute.internal:20888/proxy/application_1732639283265_4069/\">Link</a></td><td><a target=\"_blank\" href=\"http://ip-192-168-1-80.eu-central-1.compute.internal:8042/node/containerlogs/container_1732639283265_4069_01_000002/livy\">Link</a></td><td>None</td><td></td></tr><tr><td>4132</td><td>application_1732639283265_4072</td><td>pyspark</td><td>idle</td><td><a target=\"_blank\" href=\"http://ip-192-168-1-36.eu-central-1.compute.internal:20888/proxy/application_1732639283265_4072/\">Link</a></td><td><a target=\"_blank\" href=\"http://ip-192-168-1-112.eu-central-1.compute.internal:8042/node/containerlogs/container_1732639283265_4072_01_000001/livy\">Link</a></td><td>None</td><td></td></tr><tr><td>4136</td><td>application_1732639283265_4076</td><td>pyspark</td><td>idle</td><td><a target=\"_blank\" href=\"http://ip-192-168-1-36.eu-central-1.compute.internal:20888/proxy/application_1732639283265_4076/\">Link</a></td><td><a target=\"_blank\" href=\"http://ip-192-168-1-233.eu-central-1.compute.internal:8042/node/containerlogs/container_1732639283265_4076_01_000001/livy\">Link</a></td><td>None</td><td></td></tr><tr><td>4143</td><td>application_1732639283265_4083</td><td>pyspark</td><td>idle</td><td><a target=\"_blank\" href=\"http://ip-192-168-1-36.eu-central-1.compute.internal:20888/proxy/application_1732639283265_4083/\">Link</a></td><td><a target=\"_blank\" href=\"http://ip-192-168-1-94.eu-central-1.compute.internal:8042/node/containerlogs/container_1732639283265_4083_01_000002/livy\">Link</a></td><td>None</td><td></td></tr><tr><td>4144</td><td>application_1732639283265_4084</td><td>pyspark</td><td>idle</td><td><a target=\"_blank\" href=\"http://ip-192-168-1-36.eu-central-1.compute.internal:20888/proxy/application_1732639283265_4084/\">Link</a></td><td><a target=\"_blank\" href=\"http://ip-192-168-1-119.eu-central-1.compute.internal:8042/node/containerlogs/container_1732639283265_4084_01_000001/livy\">Link</a></td><td>None</td><td></td></tr><tr><td>4145</td><td>application_1732639283265_4085</td><td>pyspark</td><td>idle</td><td><a target=\"_blank\" href=\"http://ip-192-168-1-36.eu-central-1.compute.internal:20888/proxy/application_1732639283265_4085/\">Link</a></td><td><a target=\"_blank\" href=\"http://ip-192-168-1-112.eu-central-1.compute.internal:8042/node/containerlogs/container_1732639283265_4085_01_000001/livy\">Link</a></td><td>None</td><td></td></tr><tr><td>4150</td><td>application_1732639283265_4090</td><td>pyspark</td><td>idle</td><td><a target=\"_blank\" href=\"http://ip-192-168-1-36.eu-central-1.compute.internal:20888/proxy/application_1732639283265_4090/\">Link</a></td><td><a target=\"_blank\" href=\"http://ip-192-168-1-174.eu-central-1.compute.internal:8042/node/containerlogs/container_1732639283265_4090_01_000001/livy\">Link</a></td><td>None</td><td></td></tr><tr><td>4154</td><td>application_1732639283265_4094</td><td>pyspark</td><td>idle</td><td><a target=\"_blank\" href=\"http://ip-192-168-1-36.eu-central-1.compute.internal:20888/proxy/application_1732639283265_4094/\">Link</a></td><td><a target=\"_blank\" href=\"http://ip-192-168-1-178.eu-central-1.compute.internal:8042/node/containerlogs/container_1732639283265_4094_01_000001/livy\">Link</a></td><td>None</td><td></td></tr><tr><td>4166</td><td>application_1732639283265_4106</td><td>pyspark</td><td>idle</td><td><a target=\"_blank\" href=\"http://ip-192-168-1-36.eu-central-1.compute.internal:20888/proxy/application_1732639283265_4106/\">Link</a></td><td><a target=\"_blank\" href=\"http://ip-192-168-1-166.eu-central-1.compute.internal:8042/node/containerlogs/container_1732639283265_4106_01_000001/livy\">Link</a></td><td>None</td><td></td></tr><tr><td>4169</td><td>application_1732639283265_4109</td><td>pyspark</td><td>idle</td><td><a target=\"_blank\" href=\"http://ip-192-168-1-36.eu-central-1.compute.internal:20888/proxy/application_1732639283265_4109/\">Link</a></td><td><a target=\"_blank\" href=\"http://ip-192-168-1-227.eu-central-1.compute.internal:8042/node/containerlogs/container_1732639283265_4109_01_000002/livy\">Link</a></td><td>None</td><td></td></tr><tr><td>4178</td><td>application_1732639283265_4118</td><td>pyspark</td><td>idle</td><td><a target=\"_blank\" href=\"http://ip-192-168-1-36.eu-central-1.compute.internal:20888/proxy/application_1732639283265_4118/\">Link</a></td><td><a target=\"_blank\" href=\"http://ip-192-168-1-16.eu-central-1.compute.internal:8042/node/containerlogs/container_1732639283265_4118_01_000002/livy\">Link</a></td><td>None</td><td></td></tr><tr><td>4181</td><td>application_1732639283265_4121</td><td>pyspark</td><td>idle</td><td><a target=\"_blank\" href=\"http://ip-192-168-1-36.eu-central-1.compute.internal:20888/proxy/application_1732639283265_4121/\">Link</a></td><td><a target=\"_blank\" href=\"http://ip-192-168-1-181.eu-central-1.compute.internal:8042/node/containerlogs/container_1732639283265_4121_01_000001/livy\">Link</a></td><td>None</td><td></td></tr><tr><td>4185</td><td>application_1732639283265_4125</td><td>pyspark</td><td>idle</td><td><a target=\"_blank\" href=\"http://ip-192-168-1-36.eu-central-1.compute.internal:20888/proxy/application_1732639283265_4125/\">Link</a></td><td><a target=\"_blank\" href=\"http://ip-192-168-1-178.eu-central-1.compute.internal:8042/node/containerlogs/container_1732639283265_4125_01_000001/livy\">Link</a></td><td>None</td><td></td></tr><tr><td>4200</td><td>application_1732639283265_4140</td><td>pyspark</td><td>idle</td><td><a target=\"_blank\" href=\"http://ip-192-168-1-36.eu-central-1.compute.internal:20888/proxy/application_1732639283265_4140/\">Link</a></td><td><a target=\"_blank\" href=\"http://ip-192-168-1-166.eu-central-1.compute.internal:8042/node/containerlogs/container_1732639283265_4140_01_000001/livy\">Link</a></td><td>None</td><td></td></tr><tr><td>4202</td><td>application_1732639283265_4142</td><td>pyspark</td><td>busy</td><td><a target=\"_blank\" href=\"http://ip-192-168-1-36.eu-central-1.compute.internal:20888/proxy/application_1732639283265_4142/\">Link</a></td><td><a target=\"_blank\" href=\"http://ip-192-168-1-16.eu-central-1.compute.internal:8042/node/containerlogs/container_1732639283265_4142_01_000001/livy\">Link</a></td><td>None</td><td></td></tr><tr><td>4203</td><td>application_1732639283265_4143</td><td>pyspark</td><td>idle</td><td><a target=\"_blank\" href=\"http://ip-192-168-1-36.eu-central-1.compute.internal:20888/proxy/application_1732639283265_4143/\">Link</a></td><td><a target=\"_blank\" href=\"http://ip-192-168-1-181.eu-central-1.compute.internal:8042/node/containerlogs/container_1732639283265_4143_01_000001/livy\">Link</a></td><td>None</td><td></td></tr><tr><td>4204</td><td>application_1732639283265_4144</td><td>pyspark</td><td>busy</td><td><a target=\"_blank\" href=\"http://ip-192-168-1-36.eu-central-1.compute.internal:20888/proxy/application_1732639283265_4144/\">Link</a></td><td><a target=\"_blank\" href=\"http://ip-192-168-1-178.eu-central-1.compute.internal:8042/node/containerlogs/container_1732639283265_4144_01_000001/livy\">Link</a></td><td>None</td><td></td></tr><tr><td>4208</td><td>application_1732639283265_4148</td><td>pyspark</td><td>idle</td><td><a target=\"_blank\" href=\"http://ip-192-168-1-36.eu-central-1.compute.internal:20888/proxy/application_1732639283265_4148/\">Link</a></td><td><a target=\"_blank\" href=\"http://ip-192-168-1-193.eu-central-1.compute.internal:8042/node/containerlogs/container_1732639283265_4148_01_000001/livy\">Link</a></td><td>None</td><td></td></tr></table>"
      ],
      "text/plain": [
       "<IPython.core.display.HTML object>"
      ]
     },
     "metadata": {},
     "output_type": "display_data"
    }
   ],
   "source": [
    "%%configure -f\n",
    "{\n",
    "    \"conf\": {\n",
    "        \"spark.executor.instances\": \"4\",\n",
    "        \"spark.executor.memory\": \"1g\",\n",
    "        \"spark.executor.cores\": \"1\",\n",
    "        \"spark.driver.memory\": \"2g\"\n",
    "    }\n",
    "}"
   ]
  },
  {
   "cell_type": "code",
   "execution_count": 5,
   "id": "f866a291-0a25-4771-a84e-6f1d31e92c68",
   "metadata": {
    "tags": []
   },
   "outputs": [
    {
     "name": "stderr",
     "output_type": "stream",
     "text": [
      "The code failed because of a fatal error:\n",
      "\tSession 4220 did not start up in 60 seconds..\n",
      "\n",
      "Some things to try:\n",
      "a) Make sure Spark has enough available resources for Jupyter to create a Spark context.\n",
      "b) Contact your Jupyter administrator to make sure the Spark magics library is configured correctly.\n",
      "c) Restart the kernel.\n"
     ]
    }
   ],
   "source": [
    "#Query 1\n",
    "\n",
    "# Spark RDD code\n",
    "from pyspark.sql import SparkSession\n",
    "# To log our application's execution time:\n",
    "import time\n",
    "import csv\n",
    "from io import StringIO\n",
    "\n",
    "sc = SparkSession \\\n",
    "    .builder \\\n",
    "    .appName(\"RDD query 1 execution\") \\\n",
    "    .getOrCreate() \\\n",
    "    .sparkContext\n",
    "\n",
    "start_time = time.time()\n",
    "\n",
    "#crime data\n",
    "#When using the given format the csv file was wrongly separated and it gave wrong records. That's why we created a function that is able to open the csv with respect to \n",
    "#commas inside columns.\n",
    "\n",
    "#cd_2010_2019 = sc.textFile(\"s3://initial-notebook-data-bucket-dblab-905418150721/CrimeData/Crime_Data_from_2010_to_2019_20241101.csv\") \\\n",
    "#                   .map(lambda x: (x.split(\",\")))\n",
    "#cd_2020_ = sc.textFile(\"s3://initial-notebook-data-bucket-dblab-905418150721/CrimeData/Crime_Data_from_2020_to_Present_20241101.csv\") \\\n",
    "#                    .map(lambda x: (x.split(\",\")))\n",
    "\n",
    "def parse_csv(line):\n",
    "    return next(csv.reader(StringIO(line)))\n",
    "\n",
    "cd_2010_2019 = sc.textFile(\"s3://initial-notebook-data-bucket-dblab-905418150721/CrimeData/Crime_Data_from_2010_to_2019_20241101.csv\") \\\n",
    "    .map(parse_csv)\n",
    "\n",
    "cd_2020_ = sc.textFile(\"s3://initial-notebook-data-bucket-dblab-905418150721/CrimeData/Crime_Data_from_2020_to_Present_20241101.csv\") \\\n",
    "    .map(parse_csv)\n",
    "\n",
    "header_2010_2019 = cd_2010_2019.first()\n",
    "header_2020 = cd_2020_.first()\n",
    "\n",
    "data_2010_2019 = cd_2010_2019.filter(lambda x: x != header_2010_2019)\n",
    "data_2020 = cd_2020_.filter(lambda x: x != header_2020)\n",
    "\n",
    "#Filter to get only the incidents with aggravated assault\n",
    "cd_aggr_2010_2019 = data_2010_2019.filter(lambda x: \"AGGRAVATED ASSAULT\" in x[9])\n",
    "cd_aggr_2020_ = data_2020.filter(lambda x: \"AGGRAVATED ASSAULT\" in x[9])\n",
    "\n",
    "#For each category, adjust the age limits, then combine the data from both files and finally sort them on descending order by Victim Age\n",
    "cd_kids_2010_2019 = cd_aggr_2010_2019.filter(lambda x: int(x[11]) < 18 and int(x[11]) >= 0)\n",
    "cd_kids_2020_ = cd_aggr_2020_.filter(lambda x: int(x[11]) < 18 and int(x[11]) >= 0)\n",
    "cd_kids = cd_kids_2010_2019.union(cd_kids_2020_)\n",
    "sorted_cd_kids = cd_kids.sortBy(lambda x: x[11], ascending=False)\n",
    "\n",
    "cd_young_adlt_2010_2019 = cd_aggr_2010_2019.filter(lambda x: int(x[11]) >= 18 and int(x[11]) < 25)\n",
    "cd_young_adlt_2020_ = cd_aggr_2020_.filter(lambda x: int(x[11]) >= 18 and int(x[11]) < 25)\n",
    "cd_young_adlt = cd_young_adlt_2010_2019.union(cd_young_adlt_2020_)\n",
    "sorted_cd_young_adlt = cd_young_adlt.sortBy(lambda x: x[11], ascending=False)\n",
    "\n",
    "cd_adlt_2010_2019 = cd_aggr_2010_2019.filter(lambda x: int(x[11]) >= 25 and int(x[11]) <= 64)\n",
    "cd_adlt_2020_ = cd_aggr_2020_.filter(lambda x: int(x[11]) >= 25 and int(x[11]) <= 64)\n",
    "cd_adlt = cd_adlt_2010_2019.union(cd_adlt_2020_)\n",
    "sorted_cd_adlt = cd_adlt.sortBy(lambda x: x[11], ascending=False)\n",
    "\n",
    "cd_eldery_2010_2019 = cd_aggr_2010_2019.filter(lambda x: int(x[11]) > 64)\n",
    "cd_eldery_2020_ = cd_aggr_2020_.filter(lambda x: int(x[11]) > 64)\n",
    "cd_eldery = cd_eldery_2010_2019.union(cd_eldery_2020_)\n",
    "sorted_cd_eldery = cd_eldery.sortBy(lambda x: x[11], ascending=False)\n",
    "\n",
    "end_time = time.time()\n",
    "ex_time=end_time - start_time\n",
    "\n",
    "# Take a sample of each RDD\n",
    "#print(\"Sample of sorted_cd_kids:\")\n",
    "#print(sorted_cd_kids.take(10))\n",
    "\n",
    "#print(\"Sample of sorted_cd_young_adlt:\")\n",
    "#print(sorted_cd_young_adlt.take(10))\n",
    "\n",
    "#print(\"Sample of sorted_cd_adlt:\")\n",
    "#print(sorted_cd_adlt.take(10))\n",
    "\n",
    "#print(\"Sample of sorted_cd_eldery:\")\n",
    "#print(sorted_cd_eldery.take(10))\n",
    "\n",
    "print(f\"Number of rows in the Kids: {sorted_cd_kids.count()}\")\n",
    "print(f\"Number of rows in the Young Adults: {sorted_cd_young_adlt.count()}\")\n",
    "print(f\"Number of rows in the Adults: {sorted_cd_adlt.count()}\")\n",
    "print(f\"Number of rows in the Eldery: {sorted_cd_eldery.count()}\")\n",
    "\n",
    "print(f\"Time taken: {ex_time:.2f} seconds\")"
   ]
  },
  {
   "cell_type": "code",
   "execution_count": null,
   "id": "16e259a7-98f8-4c37-af58-6e06d492f462",
   "metadata": {},
   "outputs": [],
   "source": [
    "#Query 1\n",
    "\n",
    "# Spark DataFrame code\n",
    "from pyspark.sql import SparkSession\n",
    "from pyspark.sql.types import StructField, StructType, IntegerType, FloatType, StringType\n",
    "from pyspark.sql.functions import col\n",
    "import time\n",
    "spark = SparkSession \\\n",
    "    .builder \\\n",
    "    .appName(\"DF query 1 execution\") \\\n",
    "    .getOrCreate()\n",
    "\n",
    "crimedata = StructType([\n",
    "    StructField(\"DR_NO\", StringType(), True),\n",
    "    StructField(\"Date Rptd\", StringType(), True),\n",
    "    StructField(\"DATE OCC\", StringType(), True),\n",
    "    StructField(\"TIME OCC\", StringType(), True),\n",
    "    StructField(\"AREA\", IntegerType(), True),\n",
    "    StructField(\"AREA NAME\", StringType(), True),\n",
    "    StructField(\"Rpt Dist No\", IntegerType(), True),\n",
    "    StructField(\"Part 1-2\", IntegerType(), True),\n",
    "    StructField(\"Crm Cd\", IntegerType(), True),\n",
    "    StructField(\"Crm Cd Desc\", StringType(), True),\n",
    "    StructField(\"Mocodes\", StringType(), True),\n",
    "    StructField(\"Vict Age\", IntegerType(), True),\n",
    "    StructField(\"Vict Sex\", StringType(), True),\n",
    "    StructField(\"Vict Descent\", StringType(), True),\n",
    "    StructField(\"Premis Cd\", IntegerType(), True),\n",
    "    StructField(\"Premis Desc\", StringType(), True),\n",
    "    StructField(\"Weapon Used Cd\", IntegerType(), True),\n",
    "    StructField(\"Weapon Desc\", StringType(), True),\n",
    "    StructField(\"Status\", StringType(), True),\n",
    "    StructField(\"Status Desc\", StringType(), True),\n",
    "    StructField(\"Crm Cd 1\", IntegerType(), True),\n",
    "    StructField(\"Crm Cd 2\", IntegerType(), True),\n",
    "    StructField(\"Crm Cd 3\", IntegerType(), True),\n",
    "    StructField(\"Crm Cd 4\", IntegerType(), True),\n",
    "    StructField(\"LOCATION\", StringType(), True),\n",
    "    StructField(\"Cross Street\", StringType(), True),\n",
    "    StructField(\"LAT\", FloatType(), True),\n",
    "    StructField(\"LON\", FloatType(), True)\n",
    "])\n",
    "\n",
    "schema1 = \"Crm_Cd_Desc STRING, Vict_Age INT\"\n",
    "\n",
    "# Starting Time\n",
    "start_time = time.time()\n",
    "\n",
    "crimedata_2010_2019 = spark.read.csv(\"s3://initial-notebook-data-bucket-dblab-905418150721/CrimeData/Crime_Data_from_2010_to_2019_20241101.csv\", header=False, schema=crimedata)\n",
    "crimedata_2020_ = spark.read.csv(\"s3://initial-notebook-data-bucket-dblab-905418150721/CrimeData/Crime_Data_from_2020_to_Present_20241101.csv\", header=False, schema=crimedata)\n",
    "\n",
    "#Filter to get only the incidents with aggravated assault\n",
    "crimedata_2010_2019_aggr = crimedata_2010_2019.filter(col(\"Crm Cd Desc\").contains(\"AGGRAVATED ASSAULT\"))\n",
    "crimedata_2020_aggr = crimedata_2020_.filter(col(\"Crm Cd Desc\").contains(\"AGGRAVATED ASSAULT\"))\n",
    "\n",
    "#For each category, adjust the age limits, then combine the data from both files and finally sort them on descending order by Victim Age\n",
    "kids2010_2019 = crimedata_2010_2019_aggr.filter((col(\"Vict Age\") >= 0) & (col(\"Vict Age\") < 18))\n",
    "kids2020_ = crimedata_2020_aggr.filter((col(\"Vict Age\") >= 0) & (col(\"Vict Age\") < 18))\n",
    "kids = kids2010_2019.union(kids2020_)\n",
    "sorted_kids = kids.sort(col(\"Vict Age\"), ascending=False)\n",
    "sorted_kids = kids.orderBy(col(\"Vict Age\").desc())\n",
    "\n",
    "young_adult2010_2019 = crimedata_2010_2019_aggr.filter((col(\"Vict Age\") >= 18) & (col(\"Vict Age\") <= 24))\n",
    "young_adult2020_ = crimedata_2020_aggr.filter((col(\"Vict Age\") >= 18) & (col(\"Vict Age\") <= 24))\n",
    "young_adults = young_adult2010_2019.union(young_adult2020_)\n",
    "sorted_young_adults = young_adults.orderBy(col(\"Vict Age\").desc())\n",
    "\n",
    "adult2010_2019 = crimedata_2010_2019_aggr.filter((col(\"Vict Age\") >= 25) & (col(\"Vict Age\") <= 64))\n",
    "adult2020_ = crimedata_2020_aggr.filter((col(\"Vict Age\") >= 25) & (col(\"Vict Age\") <= 64))\n",
    "adults = adult2010_2019.union(adult2020_)\n",
    "sorted_adults = adults.orderBy(col(\"Vict Age\").desc())\n",
    "\n",
    "elderly2010_2019 = crimedata_2010_2019_aggr.filter(col(\"Vict Age\") > 64)\n",
    "elderly2020_ = crimedata_2020_aggr.filter(col(\"Vict Age\") > 64)\n",
    "elderly = elderly2010_2019.union(elderly2020_)\n",
    "sorted_elderly = elderly.orderBy(col(\"Vict Age\").desc())\n",
    "\n",
    "#Show how much time did it take\n",
    "end_time = time.time()\n",
    "ex_time = end_time - start_time\n",
    "\n",
    "#Show results\n",
    "#sorted_kids.show(10)\n",
    "#sorted_young_adults.show(10)\n",
    "#sorted_adults.show(10)\n",
    "#sorted_elderly.show(10)\n",
    "\n",
    "print(f\"Number of rows in the Kids: {sorted_kids.count()}\")\n",
    "print(f\"Number of rows in the Young Adults: {sorted_young_adults.count()}\")\n",
    "print(f\"Number of rows in the Adults: {sorted_adults.count()}\")\n",
    "print(f\"Number of rows in the Eldery: {sorted_elderly.count()}\")\n",
    "print(f\"Time taken: {ex_time:.2f} seconds\")"
   ]
  },
  {
   "cell_type": "code",
   "execution_count": 1,
   "id": "1bcc3470-e89d-44ca-9928-97cc981a92ae",
   "metadata": {
    "tags": []
   },
   "outputs": [
    {
     "data": {
      "text/html": [
       "Current session configs: <tt>{'conf': {'spark.sql.catalog.spark_catalog.type': 'hive', 'spark.executor.instances': '4', 'spark.executor.memory': '2g', 'spark.executor.cores': '4', 'spark.driver.memory': '2g'}, 'kind': 'pyspark'}</tt><br>"
      ],
      "text/plain": [
       "<IPython.core.display.HTML object>"
      ]
     },
     "metadata": {},
     "output_type": "display_data"
    },
    {
     "data": {
      "text/html": [
       "<table>\n",
       "<tr><th>ID</th><th>YARN Application ID</th><th>Kind</th><th>State</th><th>Spark UI</th><th>Driver log</th><th>User</th><th>Current session?</th></tr><tr><td>4084</td><td>application_1732639283265_4024</td><td>pyspark</td><td>idle</td><td><a target=\"_blank\" href=\"http://ip-192-168-1-36.eu-central-1.compute.internal:20888/proxy/application_1732639283265_4024/\">Link</a></td><td><a target=\"_blank\" href=\"http://ip-192-168-1-112.eu-central-1.compute.internal:8042/node/containerlogs/container_1732639283265_4024_01_000001/livy\">Link</a></td><td>None</td><td></td></tr><tr><td>4087</td><td>application_1732639283265_4027</td><td>pyspark</td><td>idle</td><td><a target=\"_blank\" href=\"http://ip-192-168-1-36.eu-central-1.compute.internal:20888/proxy/application_1732639283265_4027/\">Link</a></td><td><a target=\"_blank\" href=\"http://ip-192-168-1-91.eu-central-1.compute.internal:8042/node/containerlogs/container_1732639283265_4027_01_000001/livy\">Link</a></td><td>None</td><td></td></tr><tr><td>4093</td><td>application_1732639283265_4033</td><td>pyspark</td><td>idle</td><td><a target=\"_blank\" href=\"http://ip-192-168-1-36.eu-central-1.compute.internal:20888/proxy/application_1732639283265_4033/\">Link</a></td><td><a target=\"_blank\" href=\"http://ip-192-168-1-174.eu-central-1.compute.internal:8042/node/containerlogs/container_1732639283265_4033_01_000001/livy\">Link</a></td><td>None</td><td></td></tr><tr><td>4094</td><td>application_1732639283265_4034</td><td>pyspark</td><td>idle</td><td><a target=\"_blank\" href=\"http://ip-192-168-1-36.eu-central-1.compute.internal:20888/proxy/application_1732639283265_4034/\">Link</a></td><td><a target=\"_blank\" href=\"http://ip-192-168-1-166.eu-central-1.compute.internal:8042/node/containerlogs/container_1732639283265_4034_01_000002/livy\">Link</a></td><td>None</td><td></td></tr><tr><td>4104</td><td>application_1732639283265_4044</td><td>pyspark</td><td>idle</td><td><a target=\"_blank\" href=\"http://ip-192-168-1-36.eu-central-1.compute.internal:20888/proxy/application_1732639283265_4044/\">Link</a></td><td><a target=\"_blank\" href=\"http://ip-192-168-1-16.eu-central-1.compute.internal:8042/node/containerlogs/container_1732639283265_4044_01_000002/livy\">Link</a></td><td>None</td><td></td></tr><tr><td>4105</td><td>application_1732639283265_4045</td><td>pyspark</td><td>idle</td><td><a target=\"_blank\" href=\"http://ip-192-168-1-36.eu-central-1.compute.internal:20888/proxy/application_1732639283265_4045/\">Link</a></td><td><a target=\"_blank\" href=\"http://ip-192-168-1-227.eu-central-1.compute.internal:8042/node/containerlogs/container_1732639283265_4045_01_000001/livy\">Link</a></td><td>None</td><td></td></tr><tr><td>4106</td><td>application_1732639283265_4046</td><td>pyspark</td><td>idle</td><td><a target=\"_blank\" href=\"http://ip-192-168-1-36.eu-central-1.compute.internal:20888/proxy/application_1732639283265_4046/\">Link</a></td><td><a target=\"_blank\" href=\"http://ip-192-168-1-233.eu-central-1.compute.internal:8042/node/containerlogs/container_1732639283265_4046_01_000001/livy\">Link</a></td><td>None</td><td></td></tr><tr><td>4108</td><td>application_1732639283265_4048</td><td>pyspark</td><td>idle</td><td><a target=\"_blank\" href=\"http://ip-192-168-1-36.eu-central-1.compute.internal:20888/proxy/application_1732639283265_4048/\">Link</a></td><td><a target=\"_blank\" href=\"http://ip-192-168-1-174.eu-central-1.compute.internal:8042/node/containerlogs/container_1732639283265_4048_01_000001/livy\">Link</a></td><td>None</td><td></td></tr><tr><td>4111</td><td>application_1732639283265_4051</td><td>pyspark</td><td>idle</td><td><a target=\"_blank\" href=\"http://ip-192-168-1-36.eu-central-1.compute.internal:20888/proxy/application_1732639283265_4051/\">Link</a></td><td><a target=\"_blank\" href=\"http://ip-192-168-1-181.eu-central-1.compute.internal:8042/node/containerlogs/container_1732639283265_4051_01_000002/livy\">Link</a></td><td>None</td><td></td></tr><tr><td>4112</td><td>application_1732639283265_4052</td><td>pyspark</td><td>idle</td><td><a target=\"_blank\" href=\"http://ip-192-168-1-36.eu-central-1.compute.internal:20888/proxy/application_1732639283265_4052/\">Link</a></td><td><a target=\"_blank\" href=\"http://ip-192-168-1-247.eu-central-1.compute.internal:8042/node/containerlogs/container_1732639283265_4052_01_000001/livy\">Link</a></td><td>None</td><td></td></tr><tr><td>4115</td><td>application_1732639283265_4055</td><td>pyspark</td><td>idle</td><td><a target=\"_blank\" href=\"http://ip-192-168-1-36.eu-central-1.compute.internal:20888/proxy/application_1732639283265_4055/\">Link</a></td><td><a target=\"_blank\" href=\"http://ip-192-168-1-227.eu-central-1.compute.internal:8042/node/containerlogs/container_1732639283265_4055_01_000001/livy\">Link</a></td><td>None</td><td></td></tr><tr><td>4116</td><td>application_1732639283265_4056</td><td>pyspark</td><td>idle</td><td><a target=\"_blank\" href=\"http://ip-192-168-1-36.eu-central-1.compute.internal:20888/proxy/application_1732639283265_4056/\">Link</a></td><td><a target=\"_blank\" href=\"http://ip-192-168-1-193.eu-central-1.compute.internal:8042/node/containerlogs/container_1732639283265_4056_01_000001/livy\">Link</a></td><td>None</td><td></td></tr><tr><td>4117</td><td>application_1732639283265_4057</td><td>pyspark</td><td>idle</td><td><a target=\"_blank\" href=\"http://ip-192-168-1-36.eu-central-1.compute.internal:20888/proxy/application_1732639283265_4057/\">Link</a></td><td><a target=\"_blank\" href=\"http://ip-192-168-1-193.eu-central-1.compute.internal:8042/node/containerlogs/container_1732639283265_4057_01_000002/livy\">Link</a></td><td>None</td><td></td></tr><tr><td>4118</td><td>application_1732639283265_4058</td><td>pyspark</td><td>idle</td><td><a target=\"_blank\" href=\"http://ip-192-168-1-36.eu-central-1.compute.internal:20888/proxy/application_1732639283265_4058/\">Link</a></td><td><a target=\"_blank\" href=\"http://ip-192-168-1-166.eu-central-1.compute.internal:8042/node/containerlogs/container_1732639283265_4058_01_000002/livy\">Link</a></td><td>None</td><td></td></tr><tr><td>4119</td><td>application_1732639283265_4059</td><td>pyspark</td><td>idle</td><td><a target=\"_blank\" href=\"http://ip-192-168-1-36.eu-central-1.compute.internal:20888/proxy/application_1732639283265_4059/\">Link</a></td><td><a target=\"_blank\" href=\"http://ip-192-168-1-119.eu-central-1.compute.internal:8042/node/containerlogs/container_1732639283265_4059_01_000002/livy\">Link</a></td><td>None</td><td></td></tr><tr><td>4120</td><td>application_1732639283265_4060</td><td>pyspark</td><td>busy</td><td><a target=\"_blank\" href=\"http://ip-192-168-1-36.eu-central-1.compute.internal:20888/proxy/application_1732639283265_4060/\">Link</a></td><td><a target=\"_blank\" href=\"http://ip-192-168-1-174.eu-central-1.compute.internal:8042/node/containerlogs/container_1732639283265_4060_01_000001/livy\">Link</a></td><td>None</td><td></td></tr><tr><td>4123</td><td>application_1732639283265_4063</td><td>pyspark</td><td>idle</td><td><a target=\"_blank\" href=\"http://ip-192-168-1-36.eu-central-1.compute.internal:20888/proxy/application_1732639283265_4063/\">Link</a></td><td><a target=\"_blank\" href=\"http://ip-192-168-1-193.eu-central-1.compute.internal:8042/node/containerlogs/container_1732639283265_4063_01_000002/livy\">Link</a></td><td>None</td><td></td></tr><tr><td>4128</td><td>application_1732639283265_4068</td><td>pyspark</td><td>idle</td><td><a target=\"_blank\" href=\"http://ip-192-168-1-36.eu-central-1.compute.internal:20888/proxy/application_1732639283265_4068/\">Link</a></td><td><a target=\"_blank\" href=\"http://ip-192-168-1-119.eu-central-1.compute.internal:8042/node/containerlogs/container_1732639283265_4068_01_000001/livy\">Link</a></td><td>None</td><td></td></tr><tr><td>4129</td><td>application_1732639283265_4069</td><td>pyspark</td><td>idle</td><td><a target=\"_blank\" href=\"http://ip-192-168-1-36.eu-central-1.compute.internal:20888/proxy/application_1732639283265_4069/\">Link</a></td><td><a target=\"_blank\" href=\"http://ip-192-168-1-80.eu-central-1.compute.internal:8042/node/containerlogs/container_1732639283265_4069_01_000002/livy\">Link</a></td><td>None</td><td></td></tr><tr><td>4132</td><td>application_1732639283265_4072</td><td>pyspark</td><td>idle</td><td><a target=\"_blank\" href=\"http://ip-192-168-1-36.eu-central-1.compute.internal:20888/proxy/application_1732639283265_4072/\">Link</a></td><td><a target=\"_blank\" href=\"http://ip-192-168-1-112.eu-central-1.compute.internal:8042/node/containerlogs/container_1732639283265_4072_01_000001/livy\">Link</a></td><td>None</td><td></td></tr><tr><td>4136</td><td>application_1732639283265_4076</td><td>pyspark</td><td>idle</td><td><a target=\"_blank\" href=\"http://ip-192-168-1-36.eu-central-1.compute.internal:20888/proxy/application_1732639283265_4076/\">Link</a></td><td><a target=\"_blank\" href=\"http://ip-192-168-1-233.eu-central-1.compute.internal:8042/node/containerlogs/container_1732639283265_4076_01_000001/livy\">Link</a></td><td>None</td><td></td></tr><tr><td>4143</td><td>application_1732639283265_4083</td><td>pyspark</td><td>idle</td><td><a target=\"_blank\" href=\"http://ip-192-168-1-36.eu-central-1.compute.internal:20888/proxy/application_1732639283265_4083/\">Link</a></td><td><a target=\"_blank\" href=\"http://ip-192-168-1-94.eu-central-1.compute.internal:8042/node/containerlogs/container_1732639283265_4083_01_000002/livy\">Link</a></td><td>None</td><td></td></tr><tr><td>4144</td><td>application_1732639283265_4084</td><td>pyspark</td><td>busy</td><td><a target=\"_blank\" href=\"http://ip-192-168-1-36.eu-central-1.compute.internal:20888/proxy/application_1732639283265_4084/\">Link</a></td><td><a target=\"_blank\" href=\"http://ip-192-168-1-119.eu-central-1.compute.internal:8042/node/containerlogs/container_1732639283265_4084_01_000001/livy\">Link</a></td><td>None</td><td></td></tr><tr><td>4145</td><td>application_1732639283265_4085</td><td>pyspark</td><td>idle</td><td><a target=\"_blank\" href=\"http://ip-192-168-1-36.eu-central-1.compute.internal:20888/proxy/application_1732639283265_4085/\">Link</a></td><td><a target=\"_blank\" href=\"http://ip-192-168-1-112.eu-central-1.compute.internal:8042/node/containerlogs/container_1732639283265_4085_01_000001/livy\">Link</a></td><td>None</td><td></td></tr><tr><td>4150</td><td>application_1732639283265_4090</td><td>pyspark</td><td>idle</td><td><a target=\"_blank\" href=\"http://ip-192-168-1-36.eu-central-1.compute.internal:20888/proxy/application_1732639283265_4090/\">Link</a></td><td><a target=\"_blank\" href=\"http://ip-192-168-1-174.eu-central-1.compute.internal:8042/node/containerlogs/container_1732639283265_4090_01_000001/livy\">Link</a></td><td>None</td><td></td></tr><tr><td>4154</td><td>application_1732639283265_4094</td><td>pyspark</td><td>idle</td><td><a target=\"_blank\" href=\"http://ip-192-168-1-36.eu-central-1.compute.internal:20888/proxy/application_1732639283265_4094/\">Link</a></td><td><a target=\"_blank\" href=\"http://ip-192-168-1-178.eu-central-1.compute.internal:8042/node/containerlogs/container_1732639283265_4094_01_000001/livy\">Link</a></td><td>None</td><td></td></tr><tr><td>4166</td><td>application_1732639283265_4106</td><td>pyspark</td><td>idle</td><td><a target=\"_blank\" href=\"http://ip-192-168-1-36.eu-central-1.compute.internal:20888/proxy/application_1732639283265_4106/\">Link</a></td><td><a target=\"_blank\" href=\"http://ip-192-168-1-166.eu-central-1.compute.internal:8042/node/containerlogs/container_1732639283265_4106_01_000001/livy\">Link</a></td><td>None</td><td></td></tr><tr><td>4169</td><td>application_1732639283265_4109</td><td>pyspark</td><td>idle</td><td><a target=\"_blank\" href=\"http://ip-192-168-1-36.eu-central-1.compute.internal:20888/proxy/application_1732639283265_4109/\">Link</a></td><td><a target=\"_blank\" href=\"http://ip-192-168-1-227.eu-central-1.compute.internal:8042/node/containerlogs/container_1732639283265_4109_01_000002/livy\">Link</a></td><td>None</td><td></td></tr><tr><td>4178</td><td>application_1732639283265_4118</td><td>pyspark</td><td>idle</td><td><a target=\"_blank\" href=\"http://ip-192-168-1-36.eu-central-1.compute.internal:20888/proxy/application_1732639283265_4118/\">Link</a></td><td><a target=\"_blank\" href=\"http://ip-192-168-1-16.eu-central-1.compute.internal:8042/node/containerlogs/container_1732639283265_4118_01_000002/livy\">Link</a></td><td>None</td><td></td></tr><tr><td>4181</td><td>application_1732639283265_4121</td><td>pyspark</td><td>idle</td><td><a target=\"_blank\" href=\"http://ip-192-168-1-36.eu-central-1.compute.internal:20888/proxy/application_1732639283265_4121/\">Link</a></td><td><a target=\"_blank\" href=\"http://ip-192-168-1-181.eu-central-1.compute.internal:8042/node/containerlogs/container_1732639283265_4121_01_000001/livy\">Link</a></td><td>None</td><td></td></tr><tr><td>4185</td><td>application_1732639283265_4125</td><td>pyspark</td><td>idle</td><td><a target=\"_blank\" href=\"http://ip-192-168-1-36.eu-central-1.compute.internal:20888/proxy/application_1732639283265_4125/\">Link</a></td><td><a target=\"_blank\" href=\"http://ip-192-168-1-178.eu-central-1.compute.internal:8042/node/containerlogs/container_1732639283265_4125_01_000001/livy\">Link</a></td><td>None</td><td></td></tr><tr><td>4200</td><td>application_1732639283265_4140</td><td>pyspark</td><td>idle</td><td><a target=\"_blank\" href=\"http://ip-192-168-1-36.eu-central-1.compute.internal:20888/proxy/application_1732639283265_4140/\">Link</a></td><td><a target=\"_blank\" href=\"http://ip-192-168-1-166.eu-central-1.compute.internal:8042/node/containerlogs/container_1732639283265_4140_01_000001/livy\">Link</a></td><td>None</td><td></td></tr><tr><td>4202</td><td>application_1732639283265_4142</td><td>pyspark</td><td>busy</td><td><a target=\"_blank\" href=\"http://ip-192-168-1-36.eu-central-1.compute.internal:20888/proxy/application_1732639283265_4142/\">Link</a></td><td><a target=\"_blank\" href=\"http://ip-192-168-1-16.eu-central-1.compute.internal:8042/node/containerlogs/container_1732639283265_4142_01_000001/livy\">Link</a></td><td>None</td><td></td></tr><tr><td>4203</td><td>application_1732639283265_4143</td><td>pyspark</td><td>busy</td><td><a target=\"_blank\" href=\"http://ip-192-168-1-36.eu-central-1.compute.internal:20888/proxy/application_1732639283265_4143/\">Link</a></td><td><a target=\"_blank\" href=\"http://ip-192-168-1-181.eu-central-1.compute.internal:8042/node/containerlogs/container_1732639283265_4143_01_000001/livy\">Link</a></td><td>None</td><td></td></tr><tr><td>4204</td><td>application_1732639283265_4144</td><td>pyspark</td><td>busy</td><td><a target=\"_blank\" href=\"http://ip-192-168-1-36.eu-central-1.compute.internal:20888/proxy/application_1732639283265_4144/\">Link</a></td><td><a target=\"_blank\" href=\"http://ip-192-168-1-178.eu-central-1.compute.internal:8042/node/containerlogs/container_1732639283265_4144_01_000001/livy\">Link</a></td><td>None</td><td></td></tr><tr><td>4208</td><td>application_1732639283265_4148</td><td>pyspark</td><td>idle</td><td><a target=\"_blank\" href=\"http://ip-192-168-1-36.eu-central-1.compute.internal:20888/proxy/application_1732639283265_4148/\">Link</a></td><td><a target=\"_blank\" href=\"http://ip-192-168-1-193.eu-central-1.compute.internal:8042/node/containerlogs/container_1732639283265_4148_01_000001/livy\">Link</a></td><td>None</td><td></td></tr><tr><td>4219</td><td>application_1732639283265_4159</td><td>pyspark</td><td>busy</td><td><a target=\"_blank\" href=\"http://ip-192-168-1-36.eu-central-1.compute.internal:20888/proxy/application_1732639283265_4159/\">Link</a></td><td><a target=\"_blank\" href=\"http://ip-192-168-1-233.eu-central-1.compute.internal:8042/node/containerlogs/container_1732639283265_4159_01_000001/livy\">Link</a></td><td>None</td><td></td></tr></table>"
      ],
      "text/plain": [
       "<IPython.core.display.HTML object>"
      ]
     },
     "metadata": {},
     "output_type": "display_data"
    }
   ],
   "source": [
    "%%configure -f\n",
    "{\n",
    "    \"conf\": {\n",
    "        \"spark.executor.instances\": \"4\",\n",
    "        \"spark.executor.memory\": \"2g\",\n",
    "        \"spark.executor.cores\": \"4\",\n",
    "        \"spark.driver.memory\": \"2g\"\n",
    "    }\n",
    "}"
   ]
  },
  {
   "cell_type": "code",
   "execution_count": 6,
   "id": "9a193d26-8afa-48a6-8816-29d1fd9b97ad",
   "metadata": {},
   "outputs": [
    {
     "data": {
      "application/vnd.jupyter.widget-view+json": {
       "model_id": "",
       "version_major": 2,
       "version_minor": 0
      },
      "text/plain": [
       "FloatProgress(value=0.0, bar_style='info', description='Progress:', layout=Layout(height='25px', width='50%'),…"
      ]
     },
     "metadata": {},
     "output_type": "display_data"
    },
    {
     "name": "stdout",
     "output_type": "stream",
     "text": [
      "Sample of sorted_cd_young_adlt:\n",
      "[['121906512', '02/13/2012 12:00:00 AM', '02/12/2012 12:00:00 AM', '1225', '19', 'Mission', '1963', '1', '236', 'INTIMATE PARTNER - AGGRAVATED ASSAULT', '2000 0408 0319 0416', '24', 'F', 'H', '502', '\"MULTI-UNIT DWELLING (APARTMENT', ' DUPLEX', ' ETC)\"', '400', '\"STRONG-ARM (HANDS', ' FIST', ' FEET OR BODILY FORCE)\"', 'AA', 'Adult Arrest', '236', '', '', '', '9600    WOODMAN                      AV', '', '34.2448', '-118.4467'], ['121210118', '03/29/2012 12:00:00 AM', '03/29/2012 12:00:00 AM', '0830', '12', '77th Street', '1245', '1', '236', 'INTIMATE PARTNER - AGGRAVATED ASSAULT', '2000 1243 1814 0416 1203', '24', 'M', 'B', '501', 'SINGLE FAMILY DWELLING', '500', 'UNKNOWN WEAPON/OTHER WEAPON', 'AA', 'Adult Arrest', '236', '', '', '', '1100 W  GAGE                         AV', '', '33.9823', '-118.2938'], ['121511054', '05/05/2012 12:00:00 AM', '05/05/2012 12:00:00 AM', '1200', '15', 'N Hollywood', '1583', '1', '236', 'INTIMATE PARTNER - AGGRAVATED ASSAULT', '0400 0401 2000', '24', 'F', 'W', '501', 'SINGLE FAMILY DWELLING', '400', '\"STRONG-ARM (HANDS', ' FIST', ' FEET OR BODILY FORCE)\"', 'AA', 'Adult Arrest', '236', '', '', '', '12000    HOFFMAN                      ST', '', '34.1448', '-118.3926'], ['122106047', '02/11/2012 12:00:00 AM', '02/11/2012 12:00:00 AM', '1145', '21', 'Topanga', '2189', '1', '236', 'INTIMATE PARTNER - AGGRAVATED ASSAULT', '2000 1813 0411 0416', '24', 'M', 'W', '501', 'SINGLE FAMILY DWELLING', '205', 'KITCHEN KNIFE', 'AA', 'Adult Arrest', '236', '', '', '', '20500    DUMONT                       ST', '', '34.1602', '-118.5809'], ['131601295', '09/08/2013 12:00:00 AM', '09/08/2013 12:00:00 AM', '0030', '16', 'Foothill', '1653', '1', '236', 'INTIMATE PARTNER - AGGRAVATED ASSAULT', '2000 0416 0419 0421 0417 0429 0408 0906 1414 0334', '24', 'M', 'H', '501', 'SINGLE FAMILY DWELLING', '215', 'MACHETE', 'IC', 'Invest Cont', '236', '', '', '', '12900    BROMWICH                     ST', '', '34.2477', '-118.4131'], ['130216586', '07/29/2013 12:00:00 AM', '07/29/2013 12:00:00 AM', '0300', '02', 'Rampart', '0236', '1', '236', 'INTIMATE PARTNER - AGGRAVATED ASSAULT', '0334 0445 0411 0429 0401 0559 2000', '24', 'M', 'H', '502', '\"MULTI-UNIT DWELLING (APARTMENT', ' DUPLEX', ' ETC)\"', '207', 'OTHER KNIFE', 'AA', 'Adult Arrest', '236', '', '', '', '1900 W  3RD                          ST', '', '34.0619', '-118.2702'], ['131718292', '11/06/2013 12:00:00 AM', '11/06/2013 12:00:00 AM', '1700', '17', 'Devonshire', '1792', '1', '236', 'INTIMATE PARTNER - AGGRAVATED ASSAULT', '0416 1307 1814 2000', '24', 'F', 'W', '501', 'SINGLE FAMILY DWELLING', '500', 'UNKNOWN WEAPON/OTHER WEAPON', 'AA', 'Adult Arrest', '236', '', '', '', '19700    ROSCOE                       BL', '', '34.2204', '-118.5623'], ['131612561', '07/22/2013 12:00:00 AM', '07/22/2013 12:00:00 AM', '1330', '16', 'Foothill', '1601', '1', '236', 'INTIMATE PARTNER - AGGRAVATED ASSAULT', '0400 0305 1310 1312 4016 2000 3004 1309 1814 3028', '24', 'M', 'H', '101', 'STREET', '307', 'VEHICLE', 'IC', 'Invest Cont', '236', '', '', '', 'CHIVERS                      AV', 'DESMOND                      ST', '34.2843', '-118.4158'], ['131113263', '06/26/2013 12:00:00 AM', '06/26/2013 12:00:00 AM', '0035', '11', 'Northeast', '1109', '1', '236', 'INTIMATE PARTNER - AGGRAVATED ASSAULT', '2000 0411 1243 1814', '24', 'F', 'O', '101', 'STREET', '204', 'FOLDING KNIFE', 'AO', 'Adult Other', '236', '', '', '', 'HILL', 'TOWNSEND', '34.1446', '-118.2013'], ['130716683', '10/23/2013 12:00:00 AM', '08/18/2013 12:00:00 AM', '1600', '07', 'Wilshire', '0776', '1', '236', 'INTIMATE PARTNER - AGGRAVATED ASSAULT', '2000', '24', 'F', 'H', '501', 'SINGLE FAMILY DWELLING', '400', '\"STRONG-ARM (HANDS', ' FIST', ' FEET OR BODILY FORCE)\"', 'AA', 'Adult Arrest', '236', '', '', '', '4600    LOMITA                       ST', '', '34.0459', '-118.3374']]\n",
      "Sample of sorted_cd_adlt:\n",
      "[['151220881', '09/05/2015 12:00:00 AM', '09/05/2015 12:00:00 AM', '0340', '12', '77th Street', '1252', '1', '236', 'INTIMATE PARTNER - AGGRAVATED ASSAULT', '2000 0400 0444 1202', '64', 'M', 'B', '502', '\"MULTI-UNIT DWELLING (APARTMENT', ' DUPLEX', ' ETC)\"', '205', 'KITCHEN KNIFE', 'AO', 'Adult Other', '236', '', '', '', '2300 W  FLORENCE                     AV', '', '33.9746', '-118.3187'], ['191211957', '04/21/2019 12:00:00 AM', '04/20/2019 12:00:00 AM', '2130', '12', '77th Street', '1265', '1', '236', 'INTIMATE PARTNER - AGGRAVATED ASSAULT', '2000 1813 1202 1218 1310 1019 0416 0445 0432', '64', 'M', 'B', '101', 'STREET', '500', 'UNKNOWN WEAPON/OTHER WEAPON', 'AO', 'Adult Other', '236', '', '', '', 'MANCHESTER                   AV', 'HALLDALE                     AV', '33.96', '-118.3025'], ['191825585', '12/26/2019 12:00:00 AM', '12/26/2019 12:00:00 AM', '0330', '18', 'Southeast', '1821', '1', '236', 'INTIMATE PARTNER - AGGRAVATED ASSAULT', '0913 1817 2000 0408 1243 1813 0421 0416 1202 0445', '64', 'F', 'B', '501', 'SINGLE FAMILY DWELLING', '400', '\"STRONG-ARM (HANDS', ' FIST', ' FEET OR BODILY FORCE)\"', 'AO', 'Adult Other', '236', '', '', '', '600 W  CENTURY                      BL', '', '33.9455', '-118.2848'], ['190219182', '09/29/2019 12:00:00 AM', '09/29/2019 12:00:00 AM', '0545', '02', 'Rampart', '0237', '1', '236', 'INTIMATE PARTNER - AGGRAVATED ASSAULT', '0334 0411 0445 1202 1813 2000 2002 1206', '64', 'M', 'H', '502', '\"MULTI-UNIT DWELLING (APARTMENT', ' DUPLEX', ' ETC)\"', '400', '\"STRONG-ARM (HANDS', ' FIST', ' FEET OR BODILY FORCE)\"', 'AO', 'Adult Other', '236', '', '', '', '200    WITMER                       ST', '', '34.061', '-118.2615'], ['191100693', '09/29/2019 12:00:00 AM', '09/27/2019 12:00:00 AM', '0001', '11', 'Northeast', '1127', '1', '236', 'INTIMATE PARTNER - AGGRAVATED ASSAULT', '2000 1402 0421 1813 1821', '64', 'F', 'H', '501', 'SINGLE FAMILY DWELLING', '200', 'KNIFE WITH BLADE 6INCHES OR LESS', 'AO', 'Adult Other', '236', '998', '', '', '400    NEWLAND                      ST', '', '34.1202', '-118.185'], ['190317992', '08/03/2019 12:00:00 AM', '08/02/2019 12:00:00 AM', '1130', '03', 'Southwest', '0354', '1', '236', 'INTIMATE PARTNER - AGGRAVATED ASSAULT', '2000 1813 0334 0449 1202 0443', '64', 'M', 'B', '502', '\"MULTI-UNIT DWELLING (APARTMENT', ' DUPLEX', ' ETC)\"', '205', 'KITCHEN KNIFE', 'IC', 'Invest Cont', '236', '', '', '', '2500 W  JEFFERSON                    BL', '', '34.0256', '-118.3224'], ['190912356', '06/15/2019 12:00:00 AM', '06/14/2019 12:00:00 AM', '2200', '09', 'Van Nuys', '0926', '1', '236', 'INTIMATE PARTNER - AGGRAVATED ASSAULT', '2000 1202 1813 0447 1414', '64', 'M', 'B', '501', 'SINGLE FAMILY DWELLING', '400', '\"STRONG-ARM (HANDS', ' FIST', ' FEET OR BODILY FORCE)\"', 'AO', 'Adult Other', '236', '', '', '', '14000    VANOWEN                      ST', '', '34.1939', '-118.4378'], ['190907741', '03/15/2019 12:00:00 AM', '03/15/2019 12:00:00 AM', '1100', '09', 'Van Nuys', '0909', '1', '236', 'INTIMATE PARTNER - AGGRAVATED ASSAULT', '1813 1414 0416 2000', '64', 'M', 'W', '502', '\"MULTI-UNIT DWELLING (APARTMENT', ' DUPLEX', ' ETC)\"', '302', 'BLUNT INSTRUMENT', 'AA', 'Adult Arrest', '236', '', '', '', '7500    WOODMAN                      PL', '', '34.2072', '-118.4312'], ['192004225', '01/05/2019 12:00:00 AM', '01/05/2019 12:00:00 AM', '1000', '20', 'Olympic', '2034', '1', '236', 'INTIMATE PARTNER - AGGRAVATED ASSAULT', '1813 1202 0446 0448 0408 0421 2000', '64', 'F', 'O', '502', '\"MULTI-UNIT DWELLING (APARTMENT', ' DUPLEX', ' ETC)\"', '400', '\"STRONG-ARM (HANDS', ' FIST', ' FEET OR BODILY FORCE)\"', 'AA', 'Adult Arrest', '236', '', '', '', '700 S  KINGSLEY                     DR', '', '34.0582', '-118.3031'], ['190325045', '11/21/2019 12:00:00 AM', '05/01/2019 12:00:00 AM', '2100', '03', 'Southwest', '0362', '1', '236', 'INTIMATE PARTNER - AGGRAVATED ASSAULT', '2000 1814 0411 1202 1309 0334', '64', 'M', 'B', '502', '\"MULTI-UNIT DWELLING (APARTMENT', ' DUPLEX', ' ETC)\"', '214', 'ICE PICK', 'AO', 'Adult Other', '236', '', '', '', '3800    COCO                         AV', '', '34.0147', '-118.35']]\n",
      "Sample of sorted_cd_eldery:\n",
      "[['110210817', '05/16/2011 12:00:00 AM', '05/11/2011 12:00:00 AM', '1000', '02', 'Rampart', '0281', '1', '236', 'INTIMATE PARTNER - AGGRAVATED ASSAULT', '0408 0416 1241 1259 1813 2000', '99', 'F', 'H', '502', '\"MULTI-UNIT DWELLING (APARTMENT', ' DUPLEX', ' ETC)\"', '400', '\"STRONG-ARM (HANDS', ' FIST', ' FEET OR BODILY FORCE)\"', 'AA', 'Adult Arrest', '236', '', '', '', '1200 S  ALVARADO                     ST', '', '34.0488', '-118.2817'], ['201211729', '04/27/2020 12:00:00 AM', '04/27/2020 12:00:00 AM', '1640', '12', '77th Street', '1283', '1', '236', 'INTIMATE PARTNER - AGGRAVATED ASSAULT', '0913 0408 0429 1814 2000', '99', 'F', 'H', '101', 'STREET', '400', '\"STRONG-ARM (HANDS', ' FIST', ' FEET OR BODILY FORCE)\"', 'AA', 'Adult Arrest', '236', '', '', '', '9700    HAAS                         AV', '', '33.9484', '-118.3167'], ['180121778', '08/20/2018 12:00:00 AM', '08/20/2018 12:00:00 AM', '0700', '01', 'Central', '0192', '1', '236', 'INTIMATE PARTNER - AGGRAVATED ASSAULT', '2004 2000 0416 0408 1813 1814', '99', 'F', 'B', '502', '\"MULTI-UNIT DWELLING (APARTMENT', ' DUPLEX', ' ETC)\"', '400', '\"STRONG-ARM (HANDS', ' FIST', ' FEET OR BODILY FORCE)\"', 'AO', 'Adult Other', '236', '', '', '', '1600 S  HOPE                         ST', '', '34.0363', '-118.2677'], ['181805391', '01/26/2018 12:00:00 AM', '01/25/2018 12:00:00 AM', '2320', '18', 'Southeast', '1835', '1', '236', 'INTIMATE PARTNER - AGGRAVATED ASSAULT', '2000 0416 1814', '99', 'F', 'B', '502', '\"MULTI-UNIT DWELLING (APARTMENT', ' DUPLEX', ' ETC)\"', '400', '\"STRONG-ARM (HANDS', ' FIST', ' FEET OR BODILY FORCE)\"', 'AA', 'Adult Arrest', '236', '', '', '', '10400 S  CENTRAL                      AV', '', '33.9419', '-118.2541'], ['180514402', '08/12/2018 12:00:00 AM', '08/12/2018 12:00:00 AM', '2120', '05', 'Harbor', '0566', '1', '236', 'INTIMATE PARTNER - AGGRAVATED ASSAULT', '0913 0448 1814 2000 1300', '99', 'F', 'B', '101', 'STREET', '400', '\"STRONG-ARM (HANDS', ' FIST', ' FEET OR BODILY FORCE)\"', 'AO', 'Adult Other', '236', '350', '', '', 'BEACON                       ST', '12TH                         ST', '33.7333', '-118.2805'], ['210817606', '12/14/2021 12:00:00 AM', '12/14/2021 12:00:00 AM', '1015', '08', 'West LA', '0897', '1', '236', 'INTIMATE PARTNER - AGGRAVATED ASSAULT', '0913 1814 2000 0408 0448 1243', '99', 'F', 'B', '502', '\"MULTI-UNIT DWELLING (APARTMENT', ' DUPLEX', ' ETC)\"', '400', '\"STRONG-ARM (HANDS', ' FIST', ' FEET OR BODILY FORCE)\"', 'AA', 'Adult Arrest', '236', '', '', '', '3100 S  CANFIELD                     AV', '', '34.0323', '-118.3964'], ['210912586', '08/08/2021 12:00:00 AM', '08/08/2021 12:00:00 AM', '1810', '09', 'Van Nuys', '0974', '1', '236', 'INTIMATE PARTNER - AGGRAVATED ASSAULT', '0329 1813 0913 1300 1414 1402 2000 0431', '99', 'M', 'B', '101', 'STREET', '512', 'MACE/PEPPER SPRAY', 'AA', 'Adult Arrest', '236', '998', '', '', 'HORTENSE', 'VAN NUYS', '34.1548', '-118.4487'], ['161816146', '08/16/2016 12:00:00 AM', '08/15/2016 12:00:00 AM', '2230', '18', 'Southeast', '1821', '1', '236', 'INTIMATE PARTNER - AGGRAVATED ASSAULT', '1402 1813 0421 2000 0416 2002', '99', 'F', 'H', '501', 'SINGLE FAMILY DWELLING', '200', 'KNIFE WITH BLADE 6INCHES OR LESS', 'AA', 'Adult Arrest', '236', '', '', '', '500 W  103RD                        ST', '', '33.9431', '-118.2826'], ['240105245', '01/18/2024 12:00:00 AM', '01/18/2024 12:00:00 AM', '1900', '01', 'Central', '0163', '1', '236', 'INTIMATE PARTNER - AGGRAVATED ASSAULT', '1822 2004 1266 2003 0447 0400', '99', 'M', 'H', '710', 'OTHER PREMISE', '212', 'BOTTLE', 'IC', 'Invest Cont', '236', '', '', '', '200 W  7TH                          ST', '', '34.0445', '-118.2523'], ['180713962', '07/24/2018 12:00:00 AM', '07/22/2018 12:00:00 AM', '0900', '07', 'Wilshire', '0745', '1', '236', 'INTIMATE PARTNER - AGGRAVATED ASSAULT', '2000 1814 0416 0446 0408', '99', 'F', 'B', '502', '\"MULTI-UNIT DWELLING (APARTMENT', ' DUPLEX', ' ETC)\"', '400', '\"STRONG-ARM (HANDS', ' FIST', ' FEET OR BODILY FORCE)\"', 'AA', 'Adult Arrest', '236', '', '', '', '1000    MEADOWBROOK                  AV', '', '34.0573', '-118.3468']]\n",
      "Sample of sorted_cd_kids:\n",
      "[['110501522', '06/26/2011 12:00:00 AM', '06/26/2011 12:00:00 AM', '1630', '05', 'Harbor', '0563', '1', '235', 'CHILD ABUSE (PHYSICAL) - AGGRAVATED ASSAULT', '0401 0431 0553 1259 1402', '17', 'M', 'B', '502', '\"MULTI-UNIT DWELLING (APARTMENT', ' DUPLEX', ' ETC)\"', '512', 'MACE/PEPPER SPRAY', 'AA', 'Adult Arrest', '235', '998', '', '', '500 W  16TH                         ST', '', '33.7297', '-118.288'], ['111325415', '11/28/2011 12:00:00 AM', '11/28/2011 12:00:00 AM', '0800', '13', 'Newton', '1324', '1', '235', 'CHILD ABUSE (PHYSICAL) - AGGRAVATED ASSAULT', '0432 0553 1251 0416', '17', 'F', 'B', '501', 'SINGLE FAMILY DWELLING', '400', '\"STRONG-ARM (HANDS', ' FIST', ' FEET OR BODILY FORCE)\"', 'AO', 'Adult Other', '235', '', '', '', '1400 E  23RD                         ST', '', '34.0194', '-118.2512'], ['111210015', '03/28/2011 12:00:00 AM', '03/27/2011 12:00:00 AM', '2130', '12', '77th Street', '1269', '1', '235', 'CHILD ABUSE (PHYSICAL) - AGGRAVATED ASSAULT', '0416 1251 1259', '17', 'F', 'B', '501', 'SINGLE FAMILY DWELLING', '400', '\"STRONG-ARM (HANDS', ' FIST', ' FEET OR BODILY FORCE)\"', 'IC', 'Invest Cont', '235', '', '', '', '300 E  81ST                         ST', '', '33.9656', '-118.2695'], ['110317174', '07/25/2011 12:00:00 AM', '07/23/2011 12:00:00 AM', '1940', '03', 'Southwest', '0355', '1', '235', 'CHILD ABUSE (PHYSICAL) - AGGRAVATED ASSAULT', '0400 0416 0602 0913', '17', 'M', 'B', '502', '\"MULTI-UNIT DWELLING (APARTMENT', ' DUPLEX', ' ETC)\"', '400', '\"STRONG-ARM (HANDS', ' FIST', ' FEET OR BODILY FORCE)\"', 'IC', 'Invest Cont', '235', '', '', '', '3700 S  WESTERN                      AV', '', '34.021', '-118.3089'], ['110605403', '01/20/2011 12:00:00 AM', '01/19/2011 12:00:00 AM', '2230', '06', 'Hollywood', '0678', '1', '236', 'INTIMATE PARTNER - AGGRAVATED ASSAULT', '0344 0409 0416 0421 0419 0429 1813 2000', '17', 'F', 'H', '502', '\"MULTI-UNIT DWELLING (APARTMENT', ' DUPLEX', ' ETC)\"', '400', '\"STRONG-ARM (HANDS', ' FIST', ' FEET OR BODILY FORCE)\"', 'AA', 'Adult Arrest', '236', '', '', '', '900 N  HOBART                       BL', '', '34.0863', '-118.3051'], ['110210766', '05/15/2011 12:00:00 AM', '05/15/2011 12:00:00 AM', '2000', '02', 'Rampart', '0238', '1', '235', 'CHILD ABUSE (PHYSICAL) - AGGRAVATED ASSAULT', '0416 0429 0553', '17', 'F', 'H', '502', '\"MULTI-UNIT DWELLING (APARTMENT', ' DUPLEX', ' ETC)\"', '500', 'UNKNOWN WEAPON/OTHER WEAPON', 'AA', 'Adult Arrest', '235', '', '', '', '1200    COURT                        ST', '', '34.0629', '-118.254'], ['111221579', '09/02/2011 12:00:00 AM', '09/01/2011 12:00:00 AM', '1600', '12', '77th Street', '1259', '1', '235', 'CHILD ABUSE (PHYSICAL) - AGGRAVATED ASSAULT', '0360 1251 1257', '17', 'F', 'H', '502', '\"MULTI-UNIT DWELLING (APARTMENT', ' DUPLEX', ' ETC)\"', '400', '\"STRONG-ARM (HANDS', ' FIST', ' FEET OR BODILY FORCE)\"', 'IC', 'Invest Cont', '235', '', '', '', '7800    CROCKER                      ST', '', '33.9688', '-118.2684'], ['121217058', '07/08/2012 12:00:00 AM', '07/06/2012 12:00:00 AM', '2230', '12', '77th Street', '1218', '1', '235', 'CHILD ABUSE (PHYSICAL) - AGGRAVATED ASSAULT', '0443 0416 0360 1309 0319 1251 1259', '17', 'M', 'H', '501', 'SINGLE FAMILY DWELLING', '400', '\"STRONG-ARM (HANDS', ' FIST', ' FEET OR BODILY FORCE)\"', 'IC', 'Invest Cont', '235', '', '', '', '600 W  54TH                         ST', '', '33.9933', '-118.2842'], ['121909858', '04/09/2012 12:00:00 AM', '04/03/2012 12:00:00 AM', '1000', '19', 'Mission', '1904', '1', '236', 'INTIMATE PARTNER - AGGRAVATED ASSAULT', '1813 0429 0408 2000 0416', '17', 'F', 'B', '502', '\"MULTI-UNIT DWELLING (APARTMENT', ' DUPLEX', ' ETC)\"', '400', '\"STRONG-ARM (HANDS', ' FIST', ' FEET OR BODILY FORCE)\"', 'IC', 'Invest Cont', '236', '', '', '', '14200    FOOTHILL                     BL', '', '34.3174', '-118.4431'], ['121216721', '07/03/2012 12:00:00 AM', '07/02/2012 12:00:00 AM', '2300', '12', '77th Street', '1268', '1', '236', 'INTIMATE PARTNER - AGGRAVATED ASSAULT', '2000 1251 1813 1243 0432 0444 0416 1258', '17', 'F', 'B', '121', 'YARD (RESIDENTIAL/BUSINESS)', '400', '\"STRONG-ARM (HANDS', ' FIST', ' FEET OR BODILY FORCE)\"', 'AA', 'Adult Arrest', '236', '', '', '', 'NORMANDIE                    AV', '73RD                         ST', '33.9737', '-118.3003']]\n",
      "51.26645255088806"
     ]
    }
   ],
   "source": [
    "# Spark RDD code\n",
    "from pyspark.sql import SparkSession\n",
    "# To log our application's execution time:\n",
    "import time\n",
    "\n",
    "sc = SparkSession \\\n",
    "    .builder \\\n",
    "    .appName(\"RDD query 1 execution\") \\\n",
    "    .getOrCreate() \\\n",
    "    .sparkContext\n",
    "\n",
    "start_time = time.time()\n",
    "#crime data\n",
    "cd_2010_2019 = sc.textFile(\"s3://initial-notebook-data-bucket-dblab-905418150721/CrimeData/Crime_Data_from_2010_to_2019_20241101.csv\") \\\n",
    "                    .map(lambda x: (x.split(\",\")))\n",
    "cd_2020_ = sc.textFile(\"s3://initial-notebook-data-bucket-dblab-905418150721/CrimeData/Crime_Data_from_2020_to_Present_20241101.csv\") \\\n",
    "                    .map(lambda x: (x.split(\",\")))\n",
    "\n",
    "header_2010_2019 = cd_2010_2019.first()\n",
    "header_2020 = cd_2020_.first()\n",
    "\n",
    "data_2010_2019 = cd_2010_2019.filter(lambda x: x != header_2010_2019)\n",
    "data_2020 = cd_2020_.filter(lambda x: x != header_2020)\n",
    "\n",
    "cd_aggr_2010_2019 = data_2010_2019.filter(lambda x: \"AGGRAVATED ASSAULT\" in x[9])\n",
    "cd_aggr_2020_ = data_2020.filter(lambda x: \"AGGRAVATED ASSAULT\" in x[9])\n",
    "\n",
    "cd_kids_2010_2019 = cd_aggr_2010_2019.filter(lambda x: x[11] < \"18\" and x[11] >= \"0\")\n",
    "cd_kids_2020_ = cd_aggr_2020_.filter(lambda x: x[11] < \"18\" and x[11] > \"0\")\n",
    "cd_kids = cd_kids_2010_2019.union(cd_kids_2020_)\n",
    "sorted_cd_kids = cd_kids.sortBy(lambda x: x[11], ascending=False)\n",
    "\n",
    "cd_young_adlt_2010_2019 = cd_aggr_2010_2019.filter(lambda x: int(x[11]) >= 18 and int(x[11]) < 25)\n",
    "cd_young_adlt_2020_ = cd_aggr_2020_.filter(lambda x: int(x[11]) >= 18 and int(x[11]) < 25)\n",
    "cd_young_adlt = cd_young_adlt_2010_2019.union(cd_young_adlt_2020_)\n",
    "sorted_cd_young_adlt = cd_young_adlt.sortBy(lambda x: x[11], ascending=False)\n",
    "\n",
    "cd_adlt_2010_2019 = cd_aggr_2010_2019.filter(lambda x: x[11] >= \"25\" and x[11] <= \"64\")\n",
    "cd_adlt_2020_ = cd_aggr_2020_.filter(lambda x: x[11] >= \"25\" and x[11] <= \"64\")\n",
    "cd_adlt = cd_adlt_2010_2019.union(cd_adlt_2020_)\n",
    "sorted_cd_adlt = cd_adlt.sortBy(lambda x: x[11], ascending=False)\n",
    "\n",
    "cd_eldery_2010_2019 = cd_aggr_2010_2019.filter(lambda x: x[11] > \"64\")\n",
    "cd_eldery_2020_ = cd_aggr_2020_.filter(lambda x: x[11] > \"64\")\n",
    "cd_eldery = cd_eldery_2010_2019.union(cd_eldery_2020_)\n",
    "sorted_cd_eldery = cd_eldery.sortBy(lambda x: x[11], ascending=False)\n",
    "\n",
    "end_time = time.time()\n",
    "time_ex=end_time - start_time\n",
    "\n",
    "print(\"Sample of sorted_cd_young_adlt:\")\n",
    "print(sorted_cd_young_adlt.take(10))\n",
    "\n",
    "print(\"Sample of sorted_cd_adlt:\")\n",
    "print(sorted_cd_adlt.take(10))\n",
    "\n",
    "print(\"Sample of sorted_cd_eldery:\")\n",
    "print(sorted_cd_eldery.take(10))\n",
    "\n",
    "# Take a sample of each RDD\n",
    "print(\"Sample of sorted_cd_kids:\")\n",
    "print(sorted_cd_kids.take(10))\n",
    "print(time_ex)\n",
    "\n"
   ]
  },
  {
   "cell_type": "code",
   "execution_count": 2,
   "id": "6d91e948-7cef-4dd5-9a32-4f59051a20d2",
   "metadata": {},
   "outputs": [
    {
     "name": "stdout",
     "output_type": "stream",
     "text": [
      "Starting Spark application\n"
     ]
    },
    {
     "data": {
      "text/html": [
       "<table>\n",
       "<tr><th>ID</th><th>YARN Application ID</th><th>Kind</th><th>State</th><th>Spark UI</th><th>Driver log</th><th>User</th><th>Current session?</th></tr><tr><td>1886</td><td>application_1732639283265_1847</td><td>pyspark</td><td>idle</td><td><a target=\"_blank\" href=\"http://ip-192-168-1-36.eu-central-1.compute.internal:20888/proxy/application_1732639283265_1847/\">Link</a></td><td><a target=\"_blank\" href=\"http://ip-192-168-1-91.eu-central-1.compute.internal:8042/node/containerlogs/container_1732639283265_1847_01_000001/livy\">Link</a></td><td>None</td><td>✔</td></tr></table>"
      ],
      "text/plain": [
       "<IPython.core.display.HTML object>"
      ]
     },
     "metadata": {},
     "output_type": "display_data"
    },
    {
     "data": {
      "application/vnd.jupyter.widget-view+json": {
       "model_id": "",
       "version_major": 2,
       "version_minor": 0
      },
      "text/plain": [
       "FloatProgress(value=0.0, bar_style='info', description='Progress:', layout=Layout(height='25px', width='50%'),…"
      ]
     },
     "metadata": {},
     "output_type": "display_data"
    },
    {
     "name": "stdout",
     "output_type": "stream",
     "text": [
      "SparkSession available as 'spark'.\n"
     ]
    },
    {
     "data": {
      "application/vnd.jupyter.widget-view+json": {
       "model_id": "",
       "version_major": 2,
       "version_minor": 0
      },
      "text/plain": [
       "FloatProgress(value=0.0, bar_style='info', description='Progress:', layout=Layout(height='25px', width='50%'),…"
      ]
     },
     "metadata": {},
     "output_type": "display_data"
    },
    {
     "name": "stdout",
     "output_type": "stream",
     "text": [
      "root\n",
      " |-- id: integer (nullable = true)\n",
      " |-- name: string (nullable = true)\n",
      " |-- salary: float (nullable = true)\n",
      " |-- dep_id: integer (nullable = true)\n",
      "\n",
      "+---+---------+------+------+\n",
      "| id|     name|salary|dep_id|\n",
      "+---+---------+------+------+\n",
      "|  6|  Jerry L| 550.0|     3|\n",
      "|  2|   John K|1000.0|     2|\n",
      "|  7| Marios K|1000.0|     1|\n",
      "|  5|  Helen K|1050.0|     2|\n",
      "| 10|Yiannis T|1500.0|     1|\n",
      "+---+---------+------+------+\n",
      "only showing top 5 rows"
     ]
    }
   ],
   "source": [
    "# Spark DataFrame code\n",
    "from pyspark.sql import SparkSession\n",
    "from pyspark.sql.types import StructField, StructType, IntegerType, FloatType, StringType\n",
    "from pyspark.sql.functions import col\n",
    "\n",
    "spark = SparkSession \\\n",
    "    .builder \\\n",
    "    .appName(\"DF query 1 execution\") \\\n",
    "    .getOrCreate()\n",
    "\n",
    "employees_schema = StructType([\n",
    "    StructField(\"id\", IntegerType()),\n",
    "    StructField(\"name\", StringType()),\n",
    "    StructField(\"salary\", FloatType()),\n",
    "    StructField(\"dep_id\", IntegerType()),\n",
    "])\n",
    "\n",
    "employees_df = spark.read.csv(\"s3://initial-notebook-data-bucket-dblab-905418150721/spark-example-data/employees.csv\", header=False, schema=employees_schema)\n",
    "#print the schema of the DataFrame:\n",
    "employees_df.printSchema()\n",
    "\n",
    "## Alternative way to read csv:\n",
    "# employees_df = spark.read.format('csv') \\\n",
    "#     .options(header='false') \\\n",
    "#     .schema(employees_schema) \\\n",
    "#     .load(\"s3://initial-notebook-data-bucket-dblab-905418150721/spark-example-data/employees.csv\")\n",
    "\n",
    "sorted_employees_df = employees_df.sort(col(\"salary\"))\n",
    "sorted_employees_df.show(5)"
   ]
  },
  {
   "cell_type": "code",
   "execution_count": null,
   "id": "b918f76f-656c-42a6-96bb-e15db0009797",
   "metadata": {},
   "outputs": [],
   "source": [
    "#QUERY 2 WITH DATAFRAMES"
   ]
  },
  {
   "cell_type": "code",
   "execution_count": 2,
   "id": "7b400869-6bba-4061-9512-b634e92e9e83",
   "metadata": {
    "tags": []
   },
   "outputs": [
    {
     "name": "stdout",
     "output_type": "stream",
     "text": [
      "Starting Spark application\n"
     ]
    },
    {
     "name": "stderr",
     "output_type": "stream",
     "text": [
      "The code failed because of a fatal error:\n",
      "\tSession 4220 did not start up in 60 seconds..\n",
      "\n",
      "Some things to try:\n",
      "a) Make sure Spark has enough available resources for Jupyter to create a Spark context.\n",
      "b) Contact your Jupyter administrator to make sure the Spark magics library is configured correctly.\n",
      "c) Restart the kernel.\n"
     ]
    }
   ],
   "source": [
    "from pyspark.sql import SparkSession\n",
    "from pyspark.sql.functions import col, count, desc, dense_rank\n",
    "from pyspark.sql.window import Window\n",
    "import time\n",
    "\n",
    "sc = SparkSession \\\n",
    "    .builder \\\n",
    "    .appName(\"Query 2\") \\\n",
    "    .getOrCreate()\n",
    "\n",
    "\n",
    "crime_df_2010_2019 = spark.read.csv(\"s3://initial-notebook-data-bucket-dblab-905418150721/CrimeData/Crime_Data_from_2010_to_2019_20241101.csv\", header=True, inferSchema=True)\n",
    "crime_df_2020_present = spark.read.csv(\"s3://initial-notebook-data-bucket-dblab-905418150721/CrimeData/Crime_Data_from_2020_to_Present_20241101.csv\", header=True, inferSchema=True)\n",
    "# Ενοποίηση των δύο DataFrames\n",
    "\n",
    "crime_df = crime_df_2010_2019.union(crime_df_2020_present)\n",
    "crime_df = crime_df.select(\n",
    "    col(\"DATE OCC\").alias(\"date_occ\"),\n",
    "    col(\"AREA NAME\").alias(\"precinct\"),\n",
    "    col(\"Status Desc\").alias(\"status\")\n",
    ")\n",
    "crime_df = crime_df.withColumn(\"year\", col(\"date_occ\").substr(7, 4))\n",
    "crime_closed = crime_df.filter(col(\"status\").isin(\"Adult Arrest\", \"Adult Other\", \"Juv Arrest\", \"Juv Other\"))\n",
    "\n",
    "crime_stats = crime_closed.groupBy(\"year\", \"precinct\") \\\n",
    "    .agg(\n",
    "        count(\"*\").alias(\"closed_cases\")\n",
    "    )\n",
    "total_cases = crime_df.groupBy(\"year\", \"precinct\") \\\n",
    "    .agg(\n",
    "        count(\"*\").alias(\"total_cases\")\n",
    "    )\n",
    "crime_percentage = crime_stats.join(total_cases, [\"year\", \"precinct\"]) \\\n",
    "    .withColumn(\"closed_case_rate\", (col(\"closed_cases\") / col(\"total_cases\")) * 100)\n",
    "window_spec = Window.partitionBy(\"year\").orderBy(desc(\"closed_case_rate\"))\n",
    "crime_top3 = crime_percentage.withColumn(\"rank\", dense_rank().over(window_spec)) \\\n",
    "    .filter(col(\"rank\") <= 3)\n",
    "\n",
    "crime_top3_sorted = crime_top3.orderBy(\"year\", \"rank\")\n",
    "\n",
    "start_time = time.time()\n",
    "crime_top3_sorted.select(\"year\", \"precinct\", \"closed_case_rate\", \"rank\").show()\n",
    "end_time = time.time()\n",
    "dataframe_api_time = end_time - start_time\n",
    "print(f\"Time taken by DataFrame API: {dataframe_api_time} seconds\")"
   ]
  },
  {
   "cell_type": "code",
   "execution_count": null,
   "id": "4a253c45-fac7-4237-a253-aa5ef968a50c",
   "metadata": {},
   "outputs": [],
   "source": [
    "#QUERY 2 WITH SQL API"
   ]
  },
  {
   "cell_type": "code",
   "execution_count": 3,
   "id": "839fd1dc-6ebb-48f6-9a74-0e40e8ab105d",
   "metadata": {},
   "outputs": [
    {
     "name": "stderr",
     "output_type": "stream",
     "text": [
      "The code failed because of a fatal error:\n",
      "\tSession 4220 did not start up in 60 seconds..\n",
      "\n",
      "Some things to try:\n",
      "a) Make sure Spark has enough available resources for Jupyter to create a Spark context.\n",
      "b) Contact your Jupyter administrator to make sure the Spark magics library is configured correctly.\n",
      "c) Restart the kernel.\n"
     ]
    }
   ],
   "source": [
    "# Register the DataFrames as temporary views\n",
    "crime_df.createOrReplaceTempView(\"crime_df\")\n",
    "crime_closed.createOrReplaceTempView(\"crime_closed\")\n",
    "crime_stats.createOrReplaceTempView(\"crime_stats\")\n",
    "total_cases.createOrReplaceTempView(\"total_cases\")\n",
    "crime_percentage.createOrReplaceTempView(\"crime_percentage\")\n",
    "crime_top3.createOrReplaceTempView(\"crime_top3\")\n",
    "\n",
    "\n",
    "sql_query = \"\"\"\n",
    "    WITH ranked_data AS (\n",
    "        SELECT\n",
    "            cp.year,\n",
    "            cp.precinct,\n",
    "            cp.closed_case_rate,\n",
    "            RANK() OVER (PARTITION BY cp.year ORDER BY cp.closed_case_rate DESC) AS rank\n",
    "        FROM\n",
    "            crime_percentage cp\n",
    "    )\n",
    "    SELECT\n",
    "        year,\n",
    "        precinct,\n",
    "        closed_case_rate,\n",
    "        rank\n",
    "    FROM\n",
    "        ranked_data\n",
    "    WHERE\n",
    "        rank <= 3\n",
    "    ORDER BY\n",
    "        year,\n",
    "        rank\n",
    "\"\"\"\n",
    "\n",
    "\n",
    "# Execute the SQL query\n",
    "\n",
    "start_time_sql = time.time()\n",
    "crime_top3_sql = sc.sql(sql_query)\n",
    "crime_top3_sql.show()\n",
    "end_time_sql = time.time()\n",
    "\n",
    "sql_api_time = end_time_sql - start_time_sql\n",
    "print(f\"Time taken with SQL API : {sql_api_time} seconds\")\n",
    "\n",
    "\n"
   ]
  },
  {
   "cell_type": "code",
   "execution_count": null,
   "id": "d1aa59a3-ea33-400d-b5c2-add7fa68058a",
   "metadata": {},
   "outputs": [],
   "source": [
    "# QUERY 2 USING DATAFRAMES:  CSV VS PARQUET FORMAT"
   ]
  },
  {
   "cell_type": "code",
   "execution_count": null,
   "id": "7910eb54-d414-4482-bdea-3f9dbbef4988",
   "metadata": {
    "tags": []
   },
   "outputs": [],
   "source": [
    "from pyspark.sql import SparkSession\n",
    "from pyspark.sql.functions import col, count, desc, dense_rank\n",
    "from pyspark.sql.window import Window\n",
    "import time\n",
    "\n",
    "# Δημιουργία Spark Session\n",
    "sc = SparkSession \\\n",
    "    .builder \\\n",
    "    .appName(\"Query 2 - CSV vs Parquet\") \\\n",
    "    .getOrCreate()\n",
    "\n",
    "crime_df_2010_2019 = sc.read.csv(\"s3://initial-notebook-data-bucket-dblab-905418150721/CrimeData/Crime_Data_from_2010_to_2019_20241101.csv\", header=True, inferSchema=True)\n",
    "crime_df_2020_present = sc.read.csv(\"s3://initial-notebook-data-bucket-dblab-905418150721/CrimeData/Crime_Data_from_2020_to_Present_20241101.csv\", header=True, inferSchema=True)\n",
    "\n",
    "# Ενοποίηση των δεδομένων\n",
    "crime_df = crime_df_2010_2019.union(crime_df_2020_present)\n",
    "\n",
    "# Αποθήκευση σε μοναδικό Parquet αρχείο\n",
    "crime_df.write.mode(\"overwrite\").parquet(\"s3://groups-bucket-dblab-905418150721/group26/CrimeData.parquet\")\n",
    "\n",
    "print(\"Dataset saved in Parquet format to S3.\")\n",
    "\n",
    "# Χρονόμετρο για CSV\n",
    "start_time_csv = time.time()\n",
    "\n",
    "# Διαβάζουμε τα δεδομένα από CSV\n",
    "crime_df = sc.read.csv(\"s3://initial-notebook-data-bucket-dblab-905418150721/CrimeData/Crime_Data_from_2010_to_2019_20241101.csv\", header=True, inferSchema=True) \\\n",
    "    .union(sc.read.csv(\"s3://initial-notebook-data-bucket-dblab-905418150721/CrimeData/Crime_Data_from_2020_to_Present_20241101.csv\", header=True, inferSchema=True))\n",
    "\n",
    "crime_df = crime_df.select(\n",
    "    col(\"DATE OCC\").alias(\"date_occ\"),\n",
    "    col(\"AREA NAME\").alias(\"precinct\"),\n",
    "    col(\"Status Desc\").alias(\"status\")\n",
    ")\n",
    "\n",
    "crime_df = crime_df.withColumn(\"year\", col(\"date_occ\").substr(7, 4))\n",
    "crime_closed = crime_df.filter(col(\"status\").isin(\"Adult Arrest\", \"Adult Other\", \"Juv Arrest\", \"Juv Other\"))\n",
    "\n",
    "crime_stats = crime_closed.groupBy(\"year\", \"precinct\") \\\n",
    "    .agg(count(\"*\").alias(\"closed_cases\"))\n",
    "total_cases = crime_df.groupBy(\"year\", \"precinct\") \\\n",
    "    .agg(count(\"*\").alias(\"total_cases\"))\n",
    "\n",
    "crime_percentage = crime_stats.join(total_cases, [\"year\", \"precinct\"]) \\\n",
    "    .withColumn(\"closed_case_rate\", (col(\"closed_cases\") / col(\"total_cases\")) * 100)\n",
    "\n",
    "window_spec = Window.partitionBy(\"year\").orderBy(desc(\"closed_case_rate\"))\n",
    "crime_top3 = crime_percentage.withColumn(\"rank\", dense_rank().over(window_spec)) \\\n",
    "    .filter(col(\"rank\") <= 3)\n",
    "\n",
    "crime_top3_sorted = crime_top3.orderBy(\"year\", \"rank\")\n",
    "#crime_top3_sorted.show()\n",
    "\n",
    "end_time_csv = time.time()\n",
    "csv_time = end_time_csv - start_time_csv\n",
    "print(f\"Time taken with CSV input: {csv_time} seconds\")\n",
    "\n",
    "\n",
    "# Χρονόμετρο για Parquet\n",
    "start_time_parquet = time.time()\n",
    "\n",
    "# Διαβάζουμε τα δεδομένα από Parquet\n",
    "crime_df = sc.read.parquet(\"s3://groups-bucket-dblab-905418150721/group26/CrimeData.parquet\")\n",
    "\n",
    "crime_df = crime_df.select(\n",
    "    col(\"DATE OCC\").alias(\"date_occ\"),\n",
    "    col(\"AREA NAME\").alias(\"precinct\"),\n",
    "    col(\"Status Desc\").alias(\"status\")\n",
    ")\n",
    "\n",
    "crime_df = crime_df.withColumn(\"year\", col(\"date_occ\").substr(7, 4))\n",
    "crime_closed = crime_df.filter(col(\"status\").isin(\"Adult Arrest\", \"Adult Other\", \"Juv Arrest\", \"Juv Other\"))\n",
    "\n",
    "crime_stats = crime_closed.groupBy(\"year\", \"precinct\") \\\n",
    "    .agg(count(\"*\").alias(\"closed_cases\"))\n",
    "total_cases = crime_df.groupBy(\"year\", \"precinct\") \\\n",
    "    .agg(count(\"*\").alias(\"total_cases\"))\n",
    "\n",
    "crime_percentage = crime_stats.join(total_cases, [\"year\", \"precinct\"]) \\\n",
    "    .withColumn(\"closed_case_rate\", (col(\"closed_cases\") / col(\"total_cases\")) * 100)\n",
    "\n",
    "window_spec = Window.partitionBy(\"year\").orderBy(desc(\"closed_case_rate\"))\n",
    "crime_top3 = crime_percentage.withColumn(\"rank\", dense_rank().over(window_spec)) \\\n",
    "    .filter(col(\"rank\") <= 3)\n",
    "\n",
    "crime_top3_sorted = crime_top3.orderBy(\"year\", \"rank\")\n",
    "#crime_top3_sorted.show()\n",
    "\n",
    "end_time_parquet = time.time()\n",
    "parquet_time = end_time_parquet - start_time_parquet\n",
    "print(f\"Time taken with Parquet input: {parquet_time} seconds\")\n",
    "\n",
    "# -----------------------------------------------\n",
    "# Βήμα 4: Σύγκριση Χρόνων Εκτέλεσης\n",
    "# -----------------------------------------------\n",
    "print(f\"CSV execution time: {csv_time} seconds\")\n",
    "print(f\"Parquet execution time: {parquet_time} seconds\")\n",
    "print(f\"Parquet was faster by: {csv_time - parquet_time} seconds\")\n"
   ]
  },
  {
   "cell_type": "code",
   "execution_count": null,
   "id": "23ac62de-268a-4a84-ac20-6ee07525e73d",
   "metadata": {},
   "outputs": [],
   "source": [
    "#QUERY 3 USING DATAFRAMES"
   ]
  },
  {
   "cell_type": "code",
   "execution_count": null,
   "id": "a9328593-9626-4c2e-9a1d-e1d85426d7b8",
   "metadata": {
    "tags": []
   },
   "outputs": [],
   "source": [
    "from pyspark.sql import SparkSession\n",
    "from pyspark.sql.functions import col, split, regexp_replace, trim, coalesce, lit,explode, when\n",
    "from pyspark.sql import functions as F\n",
    "\n",
    "# Initialize SparkSession\n",
    "sc = SparkSession \\\n",
    "    .builder \\\n",
    "    .appName(\"Query 3\") \\\n",
    "    .getOrCreate()\n",
    "############################################# AVERAGE INCOME PER PERSON PER AREA ######################################################\n",
    "\n",
    "\n",
    "######################################################   DATASET PREPROCESSING ########################################################\n",
    "\n",
    "##  INCOME DATASET ##\n",
    "\n",
    "income_df = spark.read.csv(\"s3://initial-notebook-data-bucket-dblab-905418150721/LA_income_2015.csv\", header=True, inferSchema=True)\n",
    "\n",
    "\n",
    "income_df_cleaned = income_df.select(\n",
    "    col(\"Zip Code\").alias(\"income_zip\"),\n",
    "    regexp_replace(col(\"Estimated Median Income\"), \"[$,]\", \"\").cast(\"int\").alias(\"income\"),\n",
    "    col(\"Community\").alias(\"area_income\")  # Renaming area column to avoid ambiguity\n",
    ")\n",
    "\n",
    "#split the records that have multiple areas in the community \n",
    "income_split_df = income_df_cleaned.withColumn(\"area_income\", F.explode(split(col(\"area_income\"), r',\\s*|\\(\\s*|\\s*\\)')))\n",
    "income_split_df = income_split_df.filter(\n",
    "    (col(\"area_income\").isNotNull()) & (col(\"area_income\") != \"\")\n",
    ")\n",
    "# Trim whitespace from area names\n",
    "income_split_df = income_split_df.withColumn(\"area_income\", trim(col(\"area_income\")))\n",
    "\n",
    "\n",
    "##  POPULATION DATASET  ##\n",
    "population_df = spark.read.option(\"multiline\", \"true\").json(\"s3://initial-notebook-data-bucket-dblab-905418150721/2010_Census_Blocks.geojson\")\n",
    "\n",
    "# Explode the 'features' array to access individual feature objects\n",
    "exploded_df = population_df.select(explode(col(\"features\")).alias(\"feature\"))\n",
    "\n",
    "cleaned_population_df = exploded_df.select(\n",
    "    col(\"feature.properties.COMM\").alias(\"area\"),\n",
    "    col(\"feature.properties.POP_2010\").alias(\"population\"),\n",
    "    col(\"feature.properties.ZCTA10\").alias(\"population_zip\"),\n",
    "    col(\"feature.properties.HOUSING10\").alias(\"households\"),\n",
    "    col(\"feature.properties.CITY\").alias(\"city\")\n",
    ")\n",
    "\n",
    "# Filter out rows with null or empty zip codes\n",
    "cleaned_population_df = cleaned_population_df.filter(\n",
    "    (col(\"city\") == \"Los Angeles\") &\n",
    "    (col(\"population_zip\").isNotNull()) & (col(\"population_zip\") != \"\") &\n",
    "    (col(\"households\").isNotNull()) & (col(\"households\") > 0) &\n",
    "     (col(\"population\").isNotNull()) & (col(\"population\") > 0)\n",
    "   \n",
    ")\n",
    "cleaned_population_df = cleaned_population_df.withColumn(\"area\", trim(col(\"area\")))\n",
    "cleaned_population_df = cleaned_population_df.filter(\n",
    "    (col(\"area\").isNotNull()) & (col(\"area\") != \"\")\n",
    ")\n",
    "#cleaned_population_df.show() #This dataframe contains the areas, population, zip and number of households per block\n",
    "\n",
    "\n",
    "####################################################### AVERAGE HOUSEHOLD SIZE PER AREA ##############################################\n",
    "\n",
    "#Now i will calculate the total population and total households for the areas with the same name and same zip code. So the total for every zip code./\n",
    "aggregated_population_df = cleaned_population_df.groupBy(\"area\", \"population_zip\").agg(\n",
    "    F.sum(\"population\").alias(\"total_population\"),\n",
    "    F.sum(\"households\").alias(\"total_households\")\n",
    ")\n",
    "\n",
    "sorted_aggregated_population_df = aggregated_population_df.orderBy(\"area\", \"population_zip\")\n",
    "sorted_aggregated_population_df.show()\n",
    "\n",
    "#Now i will coacluate the average household size per zip\n",
    "aggregated_population_df = aggregated_population_df.withColumn(\n",
    "    \"avg_household_size_per_zip\",\n",
    "    when(col(\"total_households\") > 0, col(\"total_population\") / col(\"total_households\")).otherwise(None)\n",
    ")\n",
    "sorted_aggregated_population_df =  aggregated_population_df.orderBy(\"area\")\n",
    "#sorted_aggregated_population_df.show()\n",
    "\n",
    "#Now i will calculate the average household size per area \n",
    "average_household_size_per_area = aggregated_population_df.groupBy(\"area\").agg(\n",
    "    F.sum((col(\"avg_household_size_per_zip\") * col(\"total_households\"))).alias(\"weighted_sum\"),\n",
    "    F.sum(\"total_households\").alias(\"total_households_per_area\")\n",
    ")\n",
    "\n",
    "average_household_size_per_area = average_household_size_per_area.withColumn(\n",
    "    \"avg_household_size_per_area\",\n",
    "    when(col(\"total_households_per_area\") > 0, col(\"weighted_sum\") / col(\"total_households_per_area\")).otherwise(None)\n",
    ")\n",
    "\n",
    "################################################### AVERAGE INCOME PER PERSON PER ZIP ################################################\n",
    "\n",
    "#For the same area, each zip code has its own mean income so I will first calculate the mean income per person for every zip\n",
    "joined_df = aggregated_population_df.join(\n",
    "    income_split_df,\n",
    "    #(aggregated_population_df[\"area\"] == income_split_df[\"area_income\"]) &\n",
    "    (aggregated_population_df[\"population_zip\"] == income_split_df[\"income_zip\"]),\n",
    "    how=\"inner\"\n",
    ")\n",
    "\n",
    "\n",
    "joined_df = joined_df.select(\n",
    "    \"area\", \"population_zip\", \"total_population\", \"total_households\",\n",
    "    \"avg_household_size_per_zip\", \"income\"\n",
    ").orderBy(\"area\", \"population_zip\")\n",
    "\n",
    "cleaned_joined_df = joined_df.filter(\n",
    "    (col(\"area\").isNotNull()) & (col(\"area\") != \"\")\n",
    ")\n",
    "cleaned_joined_df = cleaned_joined_df.filter(\n",
    "    (col(\"population_zip\").isNotNull()) & (col(\"population_zip\") != \"\")\n",
    ")\n",
    "#cleaned_joined_df.show()\n",
    "\n",
    "\n",
    "#Now i will calculate the average income per person per area \n",
    "joined_df = cleaned_joined_df.withColumn(\n",
    "    \"total_income_per_zip\",\n",
    "    col(\"income\") * col(\"total_households\")\n",
    ")\n",
    "\n",
    "aggregated_income_population_df = joined_df.groupBy(\"area\").agg(\n",
    "    F.sum(\"total_income_per_zip\").alias(\"total_income_area\"),\n",
    "    F.sum(\"total_population\").alias(\"total_population_area\")\n",
    ")\n",
    "\n",
    "aggregated_income_population_df = aggregated_income_population_df.withColumn(\n",
    "    \"avg_income_per_person_per_area\",\n",
    "    when(col(\"total_population_area\") > 0, col(\"total_income_area\") / col(\"total_population_area\")).otherwise(None)\n",
    ")\n",
    "\n",
    "\n",
    "\n",
    "\n",
    "########################################################## CRIME RATE PER PERSON #####################################################\n",
    "\n",
    "######################################################   DATASET PREPROCESSING ########################################################\n",
    "import sedona\n",
    "from sedona.spark import *\n",
    "from pyspark.sql import SparkSession\n",
    "from pyspark.sql.functions import col, count, avg\n",
    "\n",
    "# Create Spark Session\n",
    "spark = SparkSession.builder \\\n",
    "    .appName(\"GeoJSON read\") \\\n",
    "    .getOrCreate()\n",
    "\n",
    "# Create Sedona context\n",
    "sedona = SedonaContext.create(spark)\n",
    "\n",
    "# Read the GeoJSON file from S3\n",
    "geojson_path = \"s3://initial-notebook-data-bucket-dblab-905418150721/2010_Census_Blocks.geojson\"\n",
    "blocks_df = sedona.read.format(\"geojson\") \\\n",
    "            .option(\"multiLine\", \"true\").load(geojson_path) \\\n",
    "            .selectExpr(\"explode(features) as features\") \\\n",
    "            .select(\"features.*\")\n",
    "\n",
    "# Formatting the GeoJSON data\n",
    "flattened_df = blocks_df.select( \\\n",
    "                [col(f\"properties.{col_name}\").alias(col_name) for col_name in \\\n",
    "                blocks_df.schema[\"properties\"].dataType.fieldNames()] + [\"geometry\"]) \\\n",
    "            .drop(\"properties\") \\\n",
    "            .drop(\"type\")\n",
    "\n",
    "# Print schema for the GeoJSON data\n",
    "#flattened_df.printSchema()\n",
    "\n",
    "# Read the Crime data files\n",
    "crime_df_2010_2019 = spark.read.csv(\"s3://initial-notebook-data-bucket-dblab-905418150721/CrimeData/Crime_Data_from_2010_to_2019_20241101.csv\", header=True, inferSchema=True)\n",
    "crime_df_2020_present = spark.read.csv(\"s3://initial-notebook-data-bucket-dblab-905418150721/CrimeData/Crime_Data_from_2020_to_Present_20241101.csv\", header=True, inferSchema=True)\n",
    "crime_df = crime_df_2010_2019.union(crime_df_2020_present)\n",
    "\n",
    "# Clean the crime data to extract necessary columns (crime_id, LAT, LON)\n",
    "df1 = crime_df.select(\n",
    "    col(\"DR_NO\").alias(\"crime_id\"),  # Crime ID (DR_NO)\n",
    "    col(\"LAT\").alias(\"latitude\"),  # Latitude\n",
    "    col(\"LON\").alias(\"longitude\")  # Longitude\n",
    ")\n",
    "\n",
    "df1 = df1.withColumn(\"geom\", ST_Point(\"longitude\", \"latitude\"))\n",
    "\n",
    "\n",
    "joined_df1 = df1 \\\n",
    "    .join(flattened_df, ST_Within(df1.geom, flattened_df.geometry), \"inner\")\n",
    "\n",
    "\n",
    "final_df = joined_df1.select(\n",
    "    col(\"COMM\").alias(\"area\"),  # Area name (community)\n",
    "    col(\"POP_2010\").alias(\"pop10\"),  # Population of the block\n",
    "    col(\"geometry\"),  # Geometry of the block\n",
    "    col(\"latitude\").alias(\"latitude\"),  # Latitude of the crime location\n",
    "    col(\"longitude\").alias(\"longitude\"),  # Longitude of the crime location\n",
    "    col(\"crime_id\")  # Crime ID\n",
    ")\n",
    "#final_df.show()\n",
    "\n",
    "# Calculate the number of crimes per area\n",
    "crime_count_df = final_df.groupBy(\"area\", \"pop10\").agg(\n",
    "    count(\"crime_id\").alias(\"num_crimes\")\n",
    ")\n",
    "#This dataframe contain the average crime rate per person per block\n",
    "crime_rate_df = crime_count_df.withColumn(\n",
    "    \"crime_rate_per_person\",\n",
    "    col(\"num_crimes\") / col(\"pop10\")\n",
    ")\n",
    "filtered_df = crime_rate_df.filter(col(\"area\").isNotNull() & (col(\"area\") != \"\"))\n",
    "\n",
    "#I will calculate the crime rate per area per person, by finding the average.\n",
    "average_crime_rate_df = filtered_df.groupBy(\"area\").agg(\n",
    "    avg(\"crime_rate_per_person\").alias(\"avg_crime_rate_per_person\")\n",
    ")\n",
    "\n",
    "############################################# FINAL RESULTS INTO ONE TABLE ###########################################################\n",
    "\n",
    "final_crime_rate_per_area_per_person = average_crime_rate_df.orderBy(\"area\")\n",
    "\n",
    "\n",
    "final_result_df = aggregated_income_population_df.join(\n",
    "    final_crime_rate_per_area_per_person,\n",
    "    on=\"area\",\n",
    "    how=\"inner\" \n",
    ")\n",
    "\n",
    "final_result_df = final_result_df.select(\n",
    "    \"area\",\n",
    "    \"avg_income_per_person_per_area\",\n",
    "    \"avg_crime_rate_per_person\"\n",
    ")\n",
    "\n",
    "final_result_df.orderBy(\"area\").show()"
   ]
  },
  {
   "cell_type": "code",
   "execution_count": null,
   "id": "f689c135-597a-4164-af23-9ab6e6e8e5e4",
   "metadata": {},
   "outputs": [],
   "source": [
    "joined_df.explain(mode=\"formatted\")"
   ]
  },
  {
   "cell_type": "code",
   "execution_count": null,
   "id": "ff267402-5b7c-433c-b0c8-b88b957c966f",
   "metadata": {},
   "outputs": [],
   "source": [
    "joined_df1.explain(mode=\"formatted\")"
   ]
  },
  {
   "cell_type": "code",
   "execution_count": null,
   "id": "97726be3-61a9-42d6-8c74-8d2feaf25427",
   "metadata": {},
   "outputs": [],
   "source": [
    "final_result_df.explain(mode=\"formatted\")"
   ]
  },
  {
   "cell_type": "code",
   "execution_count": null,
   "id": "e07f3612-082b-48bc-98d2-bad7afc67c2e",
   "metadata": {},
   "outputs": [],
   "source": [
    "\n",
    "############################################## TESTING DIFFERENT JOIN STRATEGIES ######################################################\n",
    "from pyspark.sql import functions as F\n",
    "from time import time\n",
    "\n",
    "# Συνάρτηση για μέτρηση απόδοσης join\n",
    "def measure_join_performance(join_type_hint, df1, df2, join_condition, join_type=\"inner\"):\n",
    "    \"\"\"\n",
    "    Μετράει την απόδοση ενός join με συγκεκριμένο hint στρατηγικής.\n",
    "    \"\"\"\n",
    "    df2_with_hint = df2.hint(join_type_hint)\n",
    "    \n",
    "    start_time = time()\n",
    "    joined_df = df1.join(df2_with_hint, join_condition, how=join_type)\n",
    "    joined_df.count() \n",
    "    execution_time = time() - start_time\n",
    "    \n",
    "    print(f\"Join type: {join_type_hint}, Execution time: {execution_time:.2f} seconds\")\n",
    "    return execution_time\n",
    "\n",
    "\n",
    "strategies = [\"broadcast\", \"merge\", \"shuffle_hash\", \"shuffle_replicate_nl\"]\n",
    "\n",
    "\n",
    "results = {}\n",
    "\n",
    "#1st join\n",
    "join_condition_1 = (\n",
    "    (aggregated_population_df[\"area\"] == income_split_df[\"area_income\"]) &\n",
    "    (aggregated_population_df[\"population_zip\"] == income_split_df[\"income_zip\"])\n",
    ")\n",
    "\n",
    "results[\"join_1\"] = {}\n",
    "print(\"Testing strategies for Join 1:\")\n",
    "for strategy in strategies:\n",
    "    execution_time = measure_join_performance(\n",
    "        join_type_hint=strategy,\n",
    "        df1=aggregated_population_df,\n",
    "        df2=income_split_df,\n",
    "        join_condition=join_condition_1,\n",
    "        join_type=\"left\"\n",
    "    )\n",
    "    results[\"join_1\"][strategy] = execution_time\n",
    "\n",
    "#2nd join\n",
    "join_condition_2 = ST_Within(df1.geom, flattened_df.geometry)\n",
    "\n",
    "results[\"join_2\"] = {}\n",
    "print(\"\\nTesting strategies for Join 2:\")\n",
    "for strategy in strategies:\n",
    "    execution_time = measure_join_performance(\n",
    "        join_type_hint=strategy,\n",
    "        df1=df1,\n",
    "        df2=flattened_df,\n",
    "        join_condition=join_condition_2,\n",
    "        join_type=\"inner\"\n",
    "    )\n",
    "    results[\"join_2\"][strategy] = execution_time\n",
    "\n",
    "#3rd join\n",
    "join_condition_3 = \"area\"\n",
    "\n",
    "results[\"join_3\"] = {}\n",
    "print(\"\\nTesting strategies for Join 3:\")\n",
    "for strategy in strategies:\n",
    "    execution_time = measure_join_performance(\n",
    "        join_type_hint=strategy,\n",
    "        df1=aggregated_income_population_df,\n",
    "        df2=final_crime_rate_per_area_per_person,\n",
    "        join_condition=join_condition_3,\n",
    "        join_type=\"inner\"\n",
    "    )\n",
    "    results[\"join_3\"][strategy] = execution_time\n",
    "\n",
    "#results\n",
    "print(\"\\nPerformance Results:\")\n",
    "for join_name, join_results in results.items():\n",
    "    print(f\"\\n{join_name}:\")\n",
    "    sorted_results = sorted(join_results.items(), key=lambda x: x[1])\n",
    "    for strategy, time_taken in sorted_results:\n",
    "        print(f\"Strategy: {strategy}, Time: {time_taken:.2f} seconds\")\n",
    "        \n",
    "# Join 1: Aggregated population and income split data\n",
    "join_1_broadcast = aggregated_population_df \\\n",
    "    .hint(\"broadcast\") \\\n",
    "    .join(income_split_df, \n",
    "          (aggregated_population_df[\"area\"] == income_split_df[\"area_income\"]) & \n",
    "          (aggregated_population_df[\"population_zip\"] == income_split_df[\"income_zip\"]), \n",
    "          how=\"left\")\n",
    "\n",
    "join_1_merge = aggregated_population_df \\\n",
    "    .hint(\"merge\") \\\n",
    "    .join(income_split_df, \n",
    "          (aggregated_population_df[\"area\"] == income_split_df[\"area_income\"]) & \n",
    "          (aggregated_population_df[\"population_zip\"] == income_split_df[\"income_zip\"]), \n",
    "          how=\"left\")\n",
    "\n",
    "join_1_shuffle_hash = aggregated_population_df \\\n",
    "    .hint(\"shuffle_hash\") \\\n",
    "    .join(income_split_df, \n",
    "          (aggregated_population_df[\"area\"] == income_split_df[\"area_income\"]) & \n",
    "          (aggregated_population_df[\"population_zip\"] == income_split_df[\"income_zip\"]), \n",
    "          how=\"left\")\n",
    "\n",
    "join_1_shuffle_replicate_nl = aggregated_population_df \\\n",
    "    .hint(\"shuffle_replicate_nl\") \\\n",
    "    .join(income_split_df, \n",
    "          (aggregated_population_df[\"area\"] == income_split_df[\"area_income\"]) & \n",
    "          (aggregated_population_df[\"population_zip\"] == income_split_df[\"income_zip\"]), \n",
    "          how=\"left\")\n",
    "\n"
   ]
  },
  {
   "cell_type": "code",
   "execution_count": null,
   "id": "d04ea320-944e-49d2-b936-de543bc9ea9c",
   "metadata": {},
   "outputs": [],
   "source": [
    "#QUERY 4"
   ]
  },
  {
   "cell_type": "code",
   "execution_count": 177,
   "id": "aceeb03e-7e69-47e3-a42e-c3a012db9881",
   "metadata": {
    "tags": []
   },
   "outputs": [
    {
     "name": "stdout",
     "output_type": "stream",
     "text": [
      "Starting Spark application\n"
     ]
    },
    {
     "data": {
      "text/html": [
       "<table>\n",
       "<tr><th>ID</th><th>YARN Application ID</th><th>Kind</th><th>State</th><th>Spark UI</th><th>Driver log</th><th>User</th><th>Current session?</th></tr><tr><td>1856</td><td>application_1732639283265_1817</td><td>pyspark</td><td>idle</td><td><a target=\"_blank\" href=\"http://ip-192-168-1-36.eu-central-1.compute.internal:20888/proxy/application_1732639283265_1817/\">Link</a></td><td><a target=\"_blank\" href=\"http://ip-192-168-1-112.eu-central-1.compute.internal:8042/node/containerlogs/container_1732639283265_1817_01_000001/livy\">Link</a></td><td>None</td><td>✔</td></tr></table>"
      ],
      "text/plain": [
       "<IPython.core.display.HTML object>"
      ]
     },
     "metadata": {},
     "output_type": "display_data"
    },
    {
     "data": {
      "application/vnd.jupyter.widget-view+json": {
       "model_id": "",
       "version_major": 2,
       "version_minor": 0
      },
      "text/plain": [
       "FloatProgress(value=0.0, bar_style='info', description='Progress:', layout=Layout(height='25px', width='50%'),…"
      ]
     },
     "metadata": {},
     "output_type": "display_data"
    },
    {
     "name": "stdout",
     "output_type": "stream",
     "text": [
      "SparkSession available as 'spark'.\n"
     ]
    },
    {
     "data": {
      "text/html": [
       "Current session configs: <tt>{'conf': {'spark.sql.catalog.spark_catalog.type': 'hive', 'spark.executor.instances': '2', 'spark.executor.memory': '2g', 'spark.executor.cores': '1', 'spark.driver.memory': '2g'}, 'kind': 'pyspark'}</tt><br>"
      ],
      "text/plain": [
       "<IPython.core.display.HTML object>"
      ]
     },
     "metadata": {},
     "output_type": "display_data"
    },
    {
     "data": {
      "text/html": [
       "<table>\n",
       "<tr><th>ID</th><th>YARN Application ID</th><th>Kind</th><th>State</th><th>Spark UI</th><th>Driver log</th><th>User</th><th>Current session?</th></tr><tr><td>1819</td><td>application_1732639283265_1780</td><td>pyspark</td><td>idle</td><td><a target=\"_blank\" href=\"http://ip-192-168-1-36.eu-central-1.compute.internal:20888/proxy/application_1732639283265_1780/\">Link</a></td><td><a target=\"_blank\" href=\"http://ip-192-168-1-80.eu-central-1.compute.internal:8042/node/containerlogs/container_1732639283265_1780_01_000001/livy\">Link</a></td><td>None</td><td></td></tr><tr><td>1834</td><td>application_1732639283265_1795</td><td>pyspark</td><td>idle</td><td><a target=\"_blank\" href=\"http://ip-192-168-1-36.eu-central-1.compute.internal:20888/proxy/application_1732639283265_1795/\">Link</a></td><td><a target=\"_blank\" href=\"http://ip-192-168-1-119.eu-central-1.compute.internal:8042/node/containerlogs/container_1732639283265_1795_01_000001/livy\">Link</a></td><td>None</td><td></td></tr><tr><td>1835</td><td>application_1732639283265_1796</td><td>pyspark</td><td>idle</td><td><a target=\"_blank\" href=\"http://ip-192-168-1-36.eu-central-1.compute.internal:20888/proxy/application_1732639283265_1796/\">Link</a></td><td><a target=\"_blank\" href=\"http://ip-192-168-1-166.eu-central-1.compute.internal:8042/node/containerlogs/container_1732639283265_1796_01_000001/livy\">Link</a></td><td>None</td><td></td></tr><tr><td>1836</td><td>application_1732639283265_1797</td><td>pyspark</td><td>idle</td><td><a target=\"_blank\" href=\"http://ip-192-168-1-36.eu-central-1.compute.internal:20888/proxy/application_1732639283265_1797/\">Link</a></td><td><a target=\"_blank\" href=\"http://ip-192-168-1-94.eu-central-1.compute.internal:8042/node/containerlogs/container_1732639283265_1797_01_000001/livy\">Link</a></td><td>None</td><td></td></tr><tr><td>1841</td><td>application_1732639283265_1802</td><td>pyspark</td><td>idle</td><td><a target=\"_blank\" href=\"http://ip-192-168-1-36.eu-central-1.compute.internal:20888/proxy/application_1732639283265_1802/\">Link</a></td><td><a target=\"_blank\" href=\"http://ip-192-168-1-119.eu-central-1.compute.internal:8042/node/containerlogs/container_1732639283265_1802_01_000002/livy\">Link</a></td><td>None</td><td></td></tr><tr><td>1843</td><td>application_1732639283265_1804</td><td>pyspark</td><td>idle</td><td><a target=\"_blank\" href=\"http://ip-192-168-1-36.eu-central-1.compute.internal:20888/proxy/application_1732639283265_1804/\">Link</a></td><td><a target=\"_blank\" href=\"http://ip-192-168-1-193.eu-central-1.compute.internal:8042/node/containerlogs/container_1732639283265_1804_01_000001/livy\">Link</a></td><td>None</td><td></td></tr><tr><td>1848</td><td>application_1732639283265_1809</td><td>pyspark</td><td>idle</td><td><a target=\"_blank\" href=\"http://ip-192-168-1-36.eu-central-1.compute.internal:20888/proxy/application_1732639283265_1809/\">Link</a></td><td><a target=\"_blank\" href=\"http://ip-192-168-1-166.eu-central-1.compute.internal:8042/node/containerlogs/container_1732639283265_1809_01_000001/livy\">Link</a></td><td>None</td><td></td></tr><tr><td>1849</td><td>application_1732639283265_1810</td><td>pyspark</td><td>idle</td><td><a target=\"_blank\" href=\"http://ip-192-168-1-36.eu-central-1.compute.internal:20888/proxy/application_1732639283265_1810/\">Link</a></td><td><a target=\"_blank\" href=\"http://ip-192-168-1-174.eu-central-1.compute.internal:8042/node/containerlogs/container_1732639283265_1810_01_000001/livy\">Link</a></td><td>None</td><td></td></tr><tr><td>1854</td><td>application_1732639283265_1815</td><td>pyspark</td><td>idle</td><td><a target=\"_blank\" href=\"http://ip-192-168-1-36.eu-central-1.compute.internal:20888/proxy/application_1732639283265_1815/\">Link</a></td><td><a target=\"_blank\" href=\"http://ip-192-168-1-193.eu-central-1.compute.internal:8042/node/containerlogs/container_1732639283265_1815_01_000001/livy\">Link</a></td><td>None</td><td></td></tr><tr><td>1856</td><td>application_1732639283265_1817</td><td>pyspark</td><td>idle</td><td><a target=\"_blank\" href=\"http://ip-192-168-1-36.eu-central-1.compute.internal:20888/proxy/application_1732639283265_1817/\">Link</a></td><td><a target=\"_blank\" href=\"http://ip-192-168-1-112.eu-central-1.compute.internal:8042/node/containerlogs/container_1732639283265_1817_01_000001/livy\">Link</a></td><td>None</td><td>✔</td></tr></table>"
      ],
      "text/plain": [
       "<IPython.core.display.HTML object>"
      ]
     },
     "metadata": {},
     "output_type": "display_data"
    }
   ],
   "source": [
    "%%configure -f\n",
    "{\n",
    "    \"conf\": {\n",
    "        \"spark.executor.instances\": \"2\",\n",
    "        \"spark.executor.memory\": \"2g\",\n",
    "        \"spark.executor.cores\": \"1\",\n",
    "        \"spark.driver.memory\": \"2g\"\n",
    "    }\n",
    "}"
   ]
  },
  {
   "cell_type": "code",
   "execution_count": 181,
   "id": "7039ebcc-1a82-4443-83cd-a15106d00a84",
   "metadata": {
    "tags": []
   },
   "outputs": [
    {
     "name": "stdout",
     "output_type": "stream",
     "text": [
      "Starting Spark application\n"
     ]
    },
    {
     "data": {
      "text/html": [
       "<table>\n",
       "<tr><th>ID</th><th>YARN Application ID</th><th>Kind</th><th>State</th><th>Spark UI</th><th>Driver log</th><th>User</th><th>Current session?</th></tr><tr><td>1857</td><td>application_1732639283265_1818</td><td>pyspark</td><td>idle</td><td><a target=\"_blank\" href=\"http://ip-192-168-1-36.eu-central-1.compute.internal:20888/proxy/application_1732639283265_1818/\">Link</a></td><td><a target=\"_blank\" href=\"http://ip-192-168-1-91.eu-central-1.compute.internal:8042/node/containerlogs/container_1732639283265_1818_01_000001/livy\">Link</a></td><td>None</td><td>✔</td></tr></table>"
      ],
      "text/plain": [
       "<IPython.core.display.HTML object>"
      ]
     },
     "metadata": {},
     "output_type": "display_data"
    },
    {
     "data": {
      "application/vnd.jupyter.widget-view+json": {
       "model_id": "",
       "version_major": 2,
       "version_minor": 0
      },
      "text/plain": [
       "FloatProgress(value=0.0, bar_style='info', description='Progress:', layout=Layout(height='25px', width='50%'),…"
      ]
     },
     "metadata": {},
     "output_type": "display_data"
    },
    {
     "name": "stdout",
     "output_type": "stream",
     "text": [
      "SparkSession available as 'spark'.\n"
     ]
    },
    {
     "data": {
      "text/html": [
       "Current session configs: <tt>{'conf': {'spark.sql.catalog.spark_catalog.type': 'hive', 'spark.executor.instances': '2', 'spark.executor.memory': '4g', 'spark.executor.cores': '2', 'spark.driver.memory': '2g'}, 'kind': 'pyspark'}</tt><br>"
      ],
      "text/plain": [
       "<IPython.core.display.HTML object>"
      ]
     },
     "metadata": {},
     "output_type": "display_data"
    },
    {
     "data": {
      "text/html": [
       "<table>\n",
       "<tr><th>ID</th><th>YARN Application ID</th><th>Kind</th><th>State</th><th>Spark UI</th><th>Driver log</th><th>User</th><th>Current session?</th></tr><tr><td>1819</td><td>application_1732639283265_1780</td><td>pyspark</td><td>idle</td><td><a target=\"_blank\" href=\"http://ip-192-168-1-36.eu-central-1.compute.internal:20888/proxy/application_1732639283265_1780/\">Link</a></td><td><a target=\"_blank\" href=\"http://ip-192-168-1-80.eu-central-1.compute.internal:8042/node/containerlogs/container_1732639283265_1780_01_000001/livy\">Link</a></td><td>None</td><td></td></tr><tr><td>1834</td><td>application_1732639283265_1795</td><td>pyspark</td><td>idle</td><td><a target=\"_blank\" href=\"http://ip-192-168-1-36.eu-central-1.compute.internal:20888/proxy/application_1732639283265_1795/\">Link</a></td><td><a target=\"_blank\" href=\"http://ip-192-168-1-119.eu-central-1.compute.internal:8042/node/containerlogs/container_1732639283265_1795_01_000001/livy\">Link</a></td><td>None</td><td></td></tr><tr><td>1835</td><td>application_1732639283265_1796</td><td>pyspark</td><td>idle</td><td><a target=\"_blank\" href=\"http://ip-192-168-1-36.eu-central-1.compute.internal:20888/proxy/application_1732639283265_1796/\">Link</a></td><td><a target=\"_blank\" href=\"http://ip-192-168-1-166.eu-central-1.compute.internal:8042/node/containerlogs/container_1732639283265_1796_01_000001/livy\">Link</a></td><td>None</td><td></td></tr><tr><td>1836</td><td>application_1732639283265_1797</td><td>pyspark</td><td>idle</td><td><a target=\"_blank\" href=\"http://ip-192-168-1-36.eu-central-1.compute.internal:20888/proxy/application_1732639283265_1797/\">Link</a></td><td><a target=\"_blank\" href=\"http://ip-192-168-1-94.eu-central-1.compute.internal:8042/node/containerlogs/container_1732639283265_1797_01_000001/livy\">Link</a></td><td>None</td><td></td></tr><tr><td>1841</td><td>application_1732639283265_1802</td><td>pyspark</td><td>idle</td><td><a target=\"_blank\" href=\"http://ip-192-168-1-36.eu-central-1.compute.internal:20888/proxy/application_1732639283265_1802/\">Link</a></td><td><a target=\"_blank\" href=\"http://ip-192-168-1-119.eu-central-1.compute.internal:8042/node/containerlogs/container_1732639283265_1802_01_000002/livy\">Link</a></td><td>None</td><td></td></tr><tr><td>1843</td><td>application_1732639283265_1804</td><td>pyspark</td><td>idle</td><td><a target=\"_blank\" href=\"http://ip-192-168-1-36.eu-central-1.compute.internal:20888/proxy/application_1732639283265_1804/\">Link</a></td><td><a target=\"_blank\" href=\"http://ip-192-168-1-193.eu-central-1.compute.internal:8042/node/containerlogs/container_1732639283265_1804_01_000001/livy\">Link</a></td><td>None</td><td></td></tr><tr><td>1848</td><td>application_1732639283265_1809</td><td>pyspark</td><td>idle</td><td><a target=\"_blank\" href=\"http://ip-192-168-1-36.eu-central-1.compute.internal:20888/proxy/application_1732639283265_1809/\">Link</a></td><td><a target=\"_blank\" href=\"http://ip-192-168-1-166.eu-central-1.compute.internal:8042/node/containerlogs/container_1732639283265_1809_01_000001/livy\">Link</a></td><td>None</td><td></td></tr><tr><td>1849</td><td>application_1732639283265_1810</td><td>pyspark</td><td>idle</td><td><a target=\"_blank\" href=\"http://ip-192-168-1-36.eu-central-1.compute.internal:20888/proxy/application_1732639283265_1810/\">Link</a></td><td><a target=\"_blank\" href=\"http://ip-192-168-1-174.eu-central-1.compute.internal:8042/node/containerlogs/container_1732639283265_1810_01_000001/livy\">Link</a></td><td>None</td><td></td></tr><tr><td>1854</td><td>application_1732639283265_1815</td><td>pyspark</td><td>idle</td><td><a target=\"_blank\" href=\"http://ip-192-168-1-36.eu-central-1.compute.internal:20888/proxy/application_1732639283265_1815/\">Link</a></td><td><a target=\"_blank\" href=\"http://ip-192-168-1-193.eu-central-1.compute.internal:8042/node/containerlogs/container_1732639283265_1815_01_000001/livy\">Link</a></td><td>None</td><td></td></tr><tr><td>1857</td><td>application_1732639283265_1818</td><td>pyspark</td><td>idle</td><td><a target=\"_blank\" href=\"http://ip-192-168-1-36.eu-central-1.compute.internal:20888/proxy/application_1732639283265_1818/\">Link</a></td><td><a target=\"_blank\" href=\"http://ip-192-168-1-91.eu-central-1.compute.internal:8042/node/containerlogs/container_1732639283265_1818_01_000001/livy\">Link</a></td><td>None</td><td>✔</td></tr></table>"
      ],
      "text/plain": [
       "<IPython.core.display.HTML object>"
      ]
     },
     "metadata": {},
     "output_type": "display_data"
    }
   ],
   "source": [
    "%%configure -f\n",
    "{\n",
    "    \"conf\": {\n",
    "        \"spark.executor.instances\": \"2\",\n",
    "        \"spark.executor.memory\": \"4g\",\n",
    "        \"spark.executor.cores\": \"2\",\n",
    "        \"spark.driver.memory\": \"2g\"\n",
    "    }\n",
    "}"
   ]
  },
  {
   "cell_type": "code",
   "execution_count": 184,
   "id": "269247d9-7980-42db-ae27-c8c88bbcc326",
   "metadata": {
    "tags": []
   },
   "outputs": [
    {
     "name": "stdout",
     "output_type": "stream",
     "text": [
      "Starting Spark application\n"
     ]
    },
    {
     "data": {
      "text/html": [
       "<table>\n",
       "<tr><th>ID</th><th>YARN Application ID</th><th>Kind</th><th>State</th><th>Spark UI</th><th>Driver log</th><th>User</th><th>Current session?</th></tr><tr><td>1858</td><td>application_1732639283265_1819</td><td>pyspark</td><td>idle</td><td><a target=\"_blank\" href=\"http://ip-192-168-1-36.eu-central-1.compute.internal:20888/proxy/application_1732639283265_1819/\">Link</a></td><td><a target=\"_blank\" href=\"http://ip-192-168-1-119.eu-central-1.compute.internal:8042/node/containerlogs/container_1732639283265_1819_01_000001/livy\">Link</a></td><td>None</td><td>✔</td></tr></table>"
      ],
      "text/plain": [
       "<IPython.core.display.HTML object>"
      ]
     },
     "metadata": {},
     "output_type": "display_data"
    },
    {
     "data": {
      "application/vnd.jupyter.widget-view+json": {
       "model_id": "",
       "version_major": 2,
       "version_minor": 0
      },
      "text/plain": [
       "FloatProgress(value=0.0, bar_style='info', description='Progress:', layout=Layout(height='25px', width='50%'),…"
      ]
     },
     "metadata": {},
     "output_type": "display_data"
    },
    {
     "name": "stdout",
     "output_type": "stream",
     "text": [
      "SparkSession available as 'spark'.\n"
     ]
    },
    {
     "data": {
      "text/html": [
       "Current session configs: <tt>{'conf': {'spark.sql.catalog.spark_catalog.type': 'hive', 'spark.executor.instances': '2', 'spark.executor.memory': '8g', 'spark.executor.cores': '4', 'spark.driver.memory': '2g'}, 'kind': 'pyspark'}</tt><br>"
      ],
      "text/plain": [
       "<IPython.core.display.HTML object>"
      ]
     },
     "metadata": {},
     "output_type": "display_data"
    },
    {
     "data": {
      "text/html": [
       "<table>\n",
       "<tr><th>ID</th><th>YARN Application ID</th><th>Kind</th><th>State</th><th>Spark UI</th><th>Driver log</th><th>User</th><th>Current session?</th></tr><tr><td>1819</td><td>application_1732639283265_1780</td><td>pyspark</td><td>idle</td><td><a target=\"_blank\" href=\"http://ip-192-168-1-36.eu-central-1.compute.internal:20888/proxy/application_1732639283265_1780/\">Link</a></td><td><a target=\"_blank\" href=\"http://ip-192-168-1-80.eu-central-1.compute.internal:8042/node/containerlogs/container_1732639283265_1780_01_000001/livy\">Link</a></td><td>None</td><td></td></tr><tr><td>1834</td><td>application_1732639283265_1795</td><td>pyspark</td><td>idle</td><td><a target=\"_blank\" href=\"http://ip-192-168-1-36.eu-central-1.compute.internal:20888/proxy/application_1732639283265_1795/\">Link</a></td><td><a target=\"_blank\" href=\"http://ip-192-168-1-119.eu-central-1.compute.internal:8042/node/containerlogs/container_1732639283265_1795_01_000001/livy\">Link</a></td><td>None</td><td></td></tr><tr><td>1835</td><td>application_1732639283265_1796</td><td>pyspark</td><td>idle</td><td><a target=\"_blank\" href=\"http://ip-192-168-1-36.eu-central-1.compute.internal:20888/proxy/application_1732639283265_1796/\">Link</a></td><td><a target=\"_blank\" href=\"http://ip-192-168-1-166.eu-central-1.compute.internal:8042/node/containerlogs/container_1732639283265_1796_01_000001/livy\">Link</a></td><td>None</td><td></td></tr><tr><td>1836</td><td>application_1732639283265_1797</td><td>pyspark</td><td>idle</td><td><a target=\"_blank\" href=\"http://ip-192-168-1-36.eu-central-1.compute.internal:20888/proxy/application_1732639283265_1797/\">Link</a></td><td><a target=\"_blank\" href=\"http://ip-192-168-1-94.eu-central-1.compute.internal:8042/node/containerlogs/container_1732639283265_1797_01_000001/livy\">Link</a></td><td>None</td><td></td></tr><tr><td>1841</td><td>application_1732639283265_1802</td><td>pyspark</td><td>idle</td><td><a target=\"_blank\" href=\"http://ip-192-168-1-36.eu-central-1.compute.internal:20888/proxy/application_1732639283265_1802/\">Link</a></td><td><a target=\"_blank\" href=\"http://ip-192-168-1-119.eu-central-1.compute.internal:8042/node/containerlogs/container_1732639283265_1802_01_000002/livy\">Link</a></td><td>None</td><td></td></tr><tr><td>1843</td><td>application_1732639283265_1804</td><td>pyspark</td><td>idle</td><td><a target=\"_blank\" href=\"http://ip-192-168-1-36.eu-central-1.compute.internal:20888/proxy/application_1732639283265_1804/\">Link</a></td><td><a target=\"_blank\" href=\"http://ip-192-168-1-193.eu-central-1.compute.internal:8042/node/containerlogs/container_1732639283265_1804_01_000001/livy\">Link</a></td><td>None</td><td></td></tr><tr><td>1848</td><td>application_1732639283265_1809</td><td>pyspark</td><td>idle</td><td><a target=\"_blank\" href=\"http://ip-192-168-1-36.eu-central-1.compute.internal:20888/proxy/application_1732639283265_1809/\">Link</a></td><td><a target=\"_blank\" href=\"http://ip-192-168-1-166.eu-central-1.compute.internal:8042/node/containerlogs/container_1732639283265_1809_01_000001/livy\">Link</a></td><td>None</td><td></td></tr><tr><td>1849</td><td>application_1732639283265_1810</td><td>pyspark</td><td>idle</td><td><a target=\"_blank\" href=\"http://ip-192-168-1-36.eu-central-1.compute.internal:20888/proxy/application_1732639283265_1810/\">Link</a></td><td><a target=\"_blank\" href=\"http://ip-192-168-1-174.eu-central-1.compute.internal:8042/node/containerlogs/container_1732639283265_1810_01_000001/livy\">Link</a></td><td>None</td><td></td></tr><tr><td>1854</td><td>application_1732639283265_1815</td><td>pyspark</td><td>idle</td><td><a target=\"_blank\" href=\"http://ip-192-168-1-36.eu-central-1.compute.internal:20888/proxy/application_1732639283265_1815/\">Link</a></td><td><a target=\"_blank\" href=\"http://ip-192-168-1-193.eu-central-1.compute.internal:8042/node/containerlogs/container_1732639283265_1815_01_000001/livy\">Link</a></td><td>None</td><td></td></tr><tr><td>1858</td><td>application_1732639283265_1819</td><td>pyspark</td><td>idle</td><td><a target=\"_blank\" href=\"http://ip-192-168-1-36.eu-central-1.compute.internal:20888/proxy/application_1732639283265_1819/\">Link</a></td><td><a target=\"_blank\" href=\"http://ip-192-168-1-119.eu-central-1.compute.internal:8042/node/containerlogs/container_1732639283265_1819_01_000001/livy\">Link</a></td><td>None</td><td>✔</td></tr></table>"
      ],
      "text/plain": [
       "<IPython.core.display.HTML object>"
      ]
     },
     "metadata": {},
     "output_type": "display_data"
    }
   ],
   "source": [
    "%%configure -f\n",
    "{\n",
    "    \"conf\": {\n",
    "        \"spark.executor.instances\": \"2\",\n",
    "        \"spark.executor.memory\": \"8g\",\n",
    "        \"spark.executor.cores\": \"4\",\n",
    "        \"spark.driver.memory\": \"2g\"\n",
    "    }\n",
    "}"
   ]
  },
  {
   "cell_type": "code",
   "execution_count": 186,
   "id": "759c0d26-3905-4d5d-bc56-628ac1eb1eb8",
   "metadata": {},
   "outputs": [
    {
     "data": {
      "application/vnd.jupyter.widget-view+json": {
       "model_id": "",
       "version_major": 2,
       "version_minor": 0
      },
      "text/plain": [
       "FloatProgress(value=0.0, bar_style='info', description='Progress:', layout=Layout(height='25px', width='50%'),…"
      ]
     },
     "metadata": {},
     "output_type": "display_data"
    },
    {
     "name": "stdout",
     "output_type": "stream",
     "text": [
      "Top 3 Areas by Income - Victim Descent Count:\n",
      "+--------------------+------------+\n",
      "|      Vict_Desc_Full|victim_count|\n",
      "+--------------------+------------+\n",
      "|               White|         159|\n",
      "|               Other|          26|\n",
      "|Hispanic/Latin/Me...|          23|\n",
      "|               Black|          15|\n",
      "|         Other Asian|           8|\n",
      "|             Unknown|           5|\n",
      "+--------------------+------------+\n",
      "\n",
      "Bottom 3 Areas by Income - Victim Descent Count:\n",
      "+--------------------+------------+\n",
      "|      Vict_Desc_Full|victim_count|\n",
      "+--------------------+------------+\n",
      "|Hispanic/Latin/Me...|         712|\n",
      "|               Black|         160|\n",
      "|               White|         126|\n",
      "|             Unknown|          94|\n",
      "|               Other|          93|\n",
      "|         Other Asian|          34|\n",
      "|              Korean|          18|\n",
      "|            Filipino|           3|\n",
      "+--------------------+------------+\n",
      "\n",
      "Time taken: 51.89 seconds"
     ]
    }
   ],
   "source": [
    "# Query 4 with DataFrame\n",
    "import time\n",
    "from pyspark.sql import SparkSession\n",
    "from pyspark.sql.types import StructField, StructType, IntegerType, FloatType, StringType\n",
    "from pyspark.sql.functions import col, to_timestamp, year, count\n",
    "\n",
    "spark = SparkSession \\\n",
    "    .builder \\\n",
    "    .appName(\"DF query 4 execution\") \\\n",
    "    .getOrCreate()\n",
    "\n",
    "start_time = time.time()\n",
    "crimedata = StructType([\n",
    "    StructField(\"DR_NO\", StringType(), True),\n",
    "    StructField(\"Date Rptd\", StringType(), True),\n",
    "    StructField(\"DATE OCC\", StringType(), True),\n",
    "    StructField(\"TIME OCC\", StringType(), True),\n",
    "    StructField(\"AREA\", IntegerType(), True),\n",
    "    StructField(\"AREA NAME\", StringType(), True),\n",
    "    StructField(\"Rpt Dist No\", IntegerType(), True),\n",
    "    StructField(\"Part 1-2\", IntegerType(), True),\n",
    "    StructField(\"Crm Cd\", IntegerType(), True),\n",
    "    StructField(\"Crm Cd Desc\", StringType(), True),\n",
    "    StructField(\"Mocodes\", StringType(), True),\n",
    "    StructField(\"Vict Age\", IntegerType(), True),\n",
    "    StructField(\"Vict Sex\", StringType(), True),\n",
    "    StructField(\"Vict Descent\", StringType(), True),\n",
    "    StructField(\"Premis Cd\", IntegerType(), True),\n",
    "    StructField(\"Premis Desc\", StringType(), True),\n",
    "    StructField(\"Weapon Used Cd\", IntegerType(), True),\n",
    "    StructField(\"Weapon Desc\", StringType(), True),\n",
    "    StructField(\"Status\", StringType(), True),\n",
    "    StructField(\"Status Desc\", StringType(), True),\n",
    "    StructField(\"Crm Cd 1\", IntegerType(), True),\n",
    "    StructField(\"Crm Cd 2\", IntegerType(), True),\n",
    "    StructField(\"Crm Cd 3\", IntegerType(), True),\n",
    "    StructField(\"Crm Cd 4\", IntegerType(), True),\n",
    "    StructField(\"LOCATION\", StringType(), True),\n",
    "    StructField(\"Cross Street\", StringType(), True),\n",
    "    StructField(\"LAT\", FloatType(), True),\n",
    "    StructField(\"LON\", FloatType(), True)\n",
    "])\n",
    "\n",
    "REdata = StructType([\n",
    "    StructField(\"Vict_Desc\", StringType(), True),\n",
    "    StructField(\"Vict_Desc_Full\", StringType(), True),\n",
    "])\n",
    "\n",
    "crimedata_2010_2019 = spark.read.csv(\"s3://initial-notebook-data-bucket-dblab-905418150721/CrimeData/Crime_Data_from_2010_to_2019_20241101.csv\", header=False, schema=crimedata)\n",
    "RE_codes = spark.read.csv(\"s3://initial-notebook-data-bucket-dblab-905418150721/RE_codes.csv\", header=False, schema=REdata)\n",
    "\n",
    "crime_df_2015 = crimedata_2010_2019 \\\n",
    "    .withColumn(\"DATE OCC\", to_timestamp(col(\"DATE OCC\"), \"MM/dd/yyyy hh:mm:ss a\")) \\\n",
    "    .withColumn(\"DATE OCC\", year(col(\"DATE OCC\"))) \\\n",
    "    .filter(col(\"DATE OCC\") == 2015) \\\n",
    "    .filter(col(\"Vict Descent\").isNotNull())\n",
    "\n",
    "crime_df_2015 = crime_df_2015.select(\n",
    "    col(\"DATE OCC\").alias(\"date_occ\"),\n",
    "    col(\"AREA NAME\").alias(\"precinct\"),\n",
    "    col(\"Vict Descent\").alias(\"vict_descent\"),\n",
    "    col(\"DR_NO\").alias(\"crime_id\"),\n",
    "    col(\"LAT\").alias(\"latitude\"),\n",
    "    col(\"LON\").alias(\"longitude\")\n",
    ").withColumn(\"geom\", ST_Point(\"longitude\", \"latitude\"))\n",
    "\n",
    "# Top 3 areas by income excluding NULL and 0.0 values\n",
    "top_3_areas_by_income = aggregated_income_population_df.filter(\n",
    "    col(\"avg_income_per_person_per_area\").isNotNull() & (col(\"avg_income_per_person_per_area\") > 0.0)).orderBy(\n",
    "    col(\"avg_income_per_person_per_area\").desc()).limit(3)\n",
    "#top_3_areas_by_income.select(\"area\", \"avg_income_per_person_per_area\").show()\n",
    "\n",
    "# Bottom 3 areas by income excluding NULL and 0.0 values\n",
    "bottom_3_areas_by_income = aggregated_income_population_df.filter(\n",
    "    col(\"avg_income_per_person_per_area\").isNotNull() & (col(\"avg_income_per_person_per_area\") > 0.0)).orderBy(\n",
    "    col(\"avg_income_per_person_per_area\").asc()).limit(3)\n",
    "#bottom_3_areas_by_income.select(\"area\", \"avg_income_per_person_per_area\").show()\n",
    "\n",
    "joined_df_4 = crime_df_2015.join(flattened_df, ST_Within(crime_df_2015.geom, flattened_df.geometry), \"inner\")\n",
    "\n",
    "# Get a list of top and bottom areas\n",
    "top_areas = [row['area'] for row in top_3_areas_by_income.collect()]\n",
    "bottom_areas = [row['area'] for row in bottom_3_areas_by_income.collect()]\n",
    "\n",
    "final_df_4 = joined_df_4.select(\n",
    "    col(\"COMM\").alias(\"area\"),\n",
    "    col(\"precinct\").alias(\"precinct\"),  # Area name (community)\n",
    "    col(\"date_occ\").alias(\"date_occ\"),  # Population of the block\n",
    "    col(\"geometry\"),  # Geometry of the block\n",
    "    col(\"latitude\").alias(\"latitude\"),  # Latitude of the crime location\n",
    "    col(\"longitude\").alias(\"longitude\"),  # Longitude of the crime location\n",
    "    col(\"vict_descent\")  # Crime ID\n",
    ")\n",
    "\n",
    "crime_top_areas = final_df_4.filter(col(\"area\").isin(top_areas))\n",
    "# crime_top_areas.show()\n",
    "crime_bottom_areas = final_df_4.filter(col(\"area\").isin(bottom_areas))\n",
    "# crime_bottom_areas.show()\n",
    "\n",
    "# Join with RE_codes to get the full description\n",
    "crime_top_areas_with_re = crime_top_areas.join(RE_codes, crime_top_areas[\"vict_descent\"] == RE_codes[\"Vict_Desc\"], \"left\")\n",
    "crime_bottom_areas_with_re = crime_bottom_areas.join(RE_codes, crime_bottom_areas[\"vict_descent\"] == RE_codes[\"Vict_Desc\"], \"left\")\n",
    "#crime_top_areas_with_re.show(5)\n",
    "\n",
    "# Group by Victim Descent and count the number of victims\n",
    "top_areas_victim_count = crime_top_areas_with_re.groupBy(\"Vict_Desc_Full\").agg(count(\"*\").alias(\"victim_count\")).orderBy(col(\"victim_count\").desc())\n",
    "bottom_areas_victim_count = crime_bottom_areas_with_re.groupBy(\"Vict_Desc_Full\").agg(count(\"*\").alias(\"victim_count\")).orderBy(col(\"victim_count\").desc())\n",
    "\n",
    "# Show the results\n",
    "print(\"Top 3 Areas by Income - Victim Descent Count:\")\n",
    "top_areas_victim_count.show()\n",
    "\n",
    "print(\"Bottom 3 Areas by Income - Victim Descent Count:\")\n",
    "bottom_areas_victim_count.show()\n",
    "\n",
    "end_time = time.time()\n",
    "ex_time = end_time - start_time\n",
    "print(f\"Time taken: {ex_time:.2f} seconds\")"
   ]
  },
  {
   "cell_type": "code",
   "execution_count": 169,
   "id": "c0027bf8-ca8f-453c-990e-9f8faf83dead",
   "metadata": {
    "tags": []
   },
   "outputs": [
    {
     "data": {
      "application/vnd.jupyter.widget-view+json": {
       "model_id": "",
       "version_major": 2,
       "version_minor": 0
      },
      "text/plain": [
       "FloatProgress(value=0.0, bar_style='info', description='Progress:', layout=Layout(height='25px', width='50%'),…"
      ]
     },
     "metadata": {},
     "output_type": "display_data"
    },
    {
     "name": "stdout",
     "output_type": "stream",
     "text": [
      "+-----------------+\n",
      "|             area|\n",
      "+-----------------+\n",
      "|Manchester Square|\n",
      "|Mandeville Canyon|\n",
      "|        Mar Vista|\n",
      "| Marina Peninsula|\n",
      "|   Marina del Rey|\n",
      "|          Melrose|\n",
      "|         Mid-city|\n",
      "|     Miracle Mile|\n",
      "|    Mission Hills|\n",
      "|   Mt. Washington|\n",
      "+-----------------+\n",
      "\n",
      "+-----------------+\n",
      "|             area|\n",
      "+-----------------+\n",
      "|           Malibu|\n",
      "|Manchester Square|\n",
      "|Mandeville Canyon|\n",
      "|  Manhattan Beach|\n",
      "|        Mar Vista|\n",
      "| Marina Peninsula|\n",
      "|   Marina del Rey|\n",
      "|          Maywood|\n",
      "|          Melrose|\n",
      "|         Mid-city|\n",
      "|     Miracle Mile|\n",
      "|    Mission Hills|\n",
      "|         Monrovia|\n",
      "|       Montebello|\n",
      "|    Monterey Park|\n",
      "|   Mt. Washington|\n",
      "+-----------------+"
     ]
    }
   ],
   "source": [
    "final_df_4.select(\"area\").distinct() \\\n",
    "    .filter(col(\"area\").startswith(\"M\")) \\\n",
    "    .orderBy(\"area\") \\\n",
    "    .show()\n",
    "\n",
    "# Show distinct areas from cleaned_population_df that start with 'M', sorted by area\n",
    "cleaned_population_df.select(\"area\").distinct() \\\n",
    "    .filter(col(\"area\").startswith(\"M\")) \\\n",
    "    .orderBy(\"area\") \\\n",
    "    .show()"
   ]
  },
  {
   "cell_type": "code",
   "execution_count": 97,
   "id": "a80dc802-993d-4efe-ab8d-f04a9f2081a1",
   "metadata": {},
   "outputs": [
    {
     "name": "stderr",
     "output_type": "stream",
     "text": [
      "An error was encountered:\n",
      "Invalid status code '404' from http://ec2-35-159-120-182.eu-central-1.compute.amazonaws.com:8998/sessions/1471 with error payload: {\"msg\":\"Session '1471' not found.\"}\n"
     ]
    }
   ],
   "source": [
    "#QUERY 5"
   ]
  },
  {
   "cell_type": "code",
   "execution_count": 101,
   "id": "1ebb634c-e57c-4620-bac7-4be17e1df5c7",
   "metadata": {
    "tags": []
   },
   "outputs": [
    {
     "data": {
      "application/vnd.jupyter.widget-view+json": {
       "model_id": "",
       "version_major": 2,
       "version_minor": 0
      },
      "text/plain": [
       "FloatProgress(value=0.0, bar_style='info', description='Progress:', layout=Layout(height='25px', width='50%'),…"
      ]
     },
     "metadata": {},
     "output_type": "display_data"
    },
    {
     "name": "stdout",
     "output_type": "stream",
     "text": [
      "+---------------+-------------+---+----------------+--------------------+----+\n",
      "|              X|            Y|FID|        DIVISION|            LOCATION|PREC|\n",
      "+---------------+-------------+---+----------------+--------------------+----+\n",
      "|-118.2892415530|33.7576608970|  1|          HARBOR|2175 JOHN S. GIBS...|   5|\n",
      "|-118.2753942060|33.9386273800|  2|       SOUTHEAST|    145 W. 108TH ST.|  18|\n",
      "|-118.2776696550|33.9703073800|  3|     77TH STREET|    7600 S. BROADWAY|  12|\n",
      "|-118.4198415760|33.9916553210|  4|         PACIFIC|  12312 CULVER BLVD.|  14|\n",
      "|-118.3051415630|34.0105753400|  5|       SOUTHWEST|1546 MARTIN LUTHE...|   3|\n",
      "|-118.2561188910|34.0123559050|  6|          NEWTON|3400 S. CENTRAL AVE.|  13|\n",
      "|-118.2472941230|34.0440195000|  7|         CENTRAL|      251 E. 6TH ST.|   1|\n",
      "|-118.4507795410|34.0437774120|  8|WEST LOS ANGELES|    1663 BUTLER AVE.|   8|\n",
      "|-118.2130679560|34.0450087690|  9|      HOLLENBECK|     2111 E. 1ST ST.|   4|\n",
      "|-118.3428295250|34.0467476820| 10|        WILSHIRE|   4861 VENICE BLVD.|   7|\n",
      "|-118.2911759110|34.0502085290| 11|         OLYMPIC|1130 S. VERMONT AVE.|  20|\n",
      "|-118.2669796490|34.0566904370| 12|         RAMPART|     1401 W. 6TH ST.|   2|\n",
      "|-118.3306693100|34.0958332250| 13|       HOLLYWOOD| 1358 N. WILCOX AVE.|   6|\n",
      "|-118.2494144840|34.1192006660| 14|       NORTHEAST|3353 SAN FERNANDO...|  11|\n",
      "|-118.3858593480|34.1716939300| 15| NORTH HOLLYWOOD| 11640 BURBANK BLVD.|  15|\n",
      "|-118.4452257090|34.1837432730| 16|        VAN NUYS|    6240 SYLMAR AVE.|   9|\n",
      "|-118.5474544380|34.1933972270| 17|     WEST VALLEY|   19020 VANOWEN ST.|  10|\n",
      "|-118.5996365420|34.2213766540| 18|         TOPANGA|21501 SCHOENBORN ST.|  21|\n",
      "|-118.4104171830|34.2530912220| 19|        FOOTHILL|   12760 OSBORNE ST.|  16|\n",
      "|-118.5313733630|34.2569690590| 20|      DEVONSHIRE| 10250 ETIWANDA AVE.|  17|\n",
      "+---------------+-------------+---+----------------+--------------------+----+\n",
      "only showing top 20 rows\n",
      "\n",
      "+-------+------------+-------+----+---------+-------------------+--------------------+--------------------+------+------+----------+-------+---------------+---------+--------+--------+--------+------+--------+---------------+--------+----------+--------------------+------------------+------+--------------------+\n",
      "|   BG10|   BG10FIP10|   BG12|CB10|CEN_FIP13|               CITY|             CITYCOM|                COMM|  CT10|  CT12|    CTCB10|HD_2012|        HD_NAME|HOUSING10|LA_FIP10|OBJECTID|POP_2010|PUMA10|SPA_2012|       SPA_NAME|SUP_DIST| SUP_LABEL|         ShapeSTArea|     ShapeSTLength|ZCTA10|            geometry|\n",
      "+-------+------------+-------+----+---------+-------------------+--------------------+--------------------+------+------+----------+-------+---------------+---------+--------+--------+--------+------+--------+---------------+--------+----------+--------------------+------------------+------+--------------------+\n",
      "|9012091|901209199037|9012091|1742|         |     Unincorporated|Unincorporated - ...|West Antelope Valley|901209|901209|9012091742|      5|Antelope Valley|        0|   99037|       1|       0| 03701|       1|Antelope Valley|       5|District 5|1.0126828784741674E8|49249.970965066546| 93243|POLYGON ((-118.76...|\n",
      "|9012091|901209199037|9012091|1776|         |     Unincorporated|Unincorporated - ...|West Antelope Valley|901209|901209|9012091776|      5|Antelope Valley|        0|   99037|       2|       0| 03701|       1|Antelope Valley|       5|District 5|1.0864058264932722E7|12865.930889894544| 93243|POLYGON ((-118.88...|\n",
      "|9012091|901209199037|9012091|1780|         |     Unincorporated|Unincorporated - ...|West Antelope Valley|901209|901209|9012091780|      5|Antelope Valley|        0|   99037|       3|       0| 03701|       1|Antelope Valley|       5|District 5|   632764.3873936612|4495.6756629516585| 93243|POLYGON ((-118.88...|\n",
      "|9800031|980003199037|9800031|1000|         |     Unincorporated|Unincorporated - ...|       South Edwards|980003|980003|9800031000|      5|Antelope Valley|        0|   99037|       4|       0| 03701|       1|Antelope Valley|       5|District 5| 8.436720099004808E7|44040.941816768456|      |POLYGON ((-117.77...|\n",
      "|9800031|980003199037|9800031|1002|         |     Unincorporated|Unincorporated - ...|       South Edwards|980003|980003|9800031002|      5|Antelope Valley|        0|   99037|       5|       0| 03701|       1|Antelope Valley|       5|District 5|  3440432.6271546073|30311.983847387033|      |POLYGON ((-117.82...|\n",
      "|9012091|901209199037|9012091|1053|         |     Unincorporated|Unincorporated - ...|West Antelope Valley|901209|901209|9012091053|      5|Antelope Valley|        5|   99037|       6|       5| 03701|       1|Antelope Valley|       5|District 5|   24131.11120221406| 861.3016220613971| 93243|POLYGON ((-118.70...|\n",
      "|9800031|980003199037|9800031|1060|         |     Unincorporated|Unincorporated - ...|       South Edwards|980003|980003|9800031060|      5|Antelope Valley|        0|   99037|       7|       0| 03701|       1|Antelope Valley|       5|District 5|     21518.544437332|   621.28621925602|      |POLYGON ((-117.97...|\n",
      "|2970002|297000244000|2970002|2011|    44000|        Los Angeles|Los Angeles - San...|           San Pedro|297000|297000|2970002011|     31|         Harbor|       26|   44000|       8|      69| 03767|       8|      South Bay|       4|District 4|  217909.87644297967|1980.4912547117679| 90732|POLYGON ((-118.31...|\n",
      "|4033042|403304219192|4033042|2020|    19192|        Diamond Bar| City of Diamond Bar|         Diamond Bar|403304|403304|4033042020|     54|         Pomona|       26|   19192|       9|      79| 03714|       3|    San Gabriel|       4|District 4|  374256.10070698214|3107.9271811639755| 91789|POLYGON ((-117.84...|\n",
      "|6707023|670702359514|6707023|3022|    59514|Rancho Palos Verdes|City of Rancho Pa...| Rancho Palos Verdes|670702|670702|6707023022|     31|         Harbor|        0|   59514|      10|       0| 03768|       8|      South Bay|       4|District 4|   73443.16322641971|1236.5464043943637| 90275|POLYGON ((-118.31...|\n",
      "|2971102|297110244000|2971102|2007|    44000|        Los Angeles|Los Angeles - San...|           San Pedro|297110|297110|2971102007|     31|         Harbor|       70|   44000|      11|     120| 03767|       8|      South Bay|       4|District 4|   92541.06854345629|1220.8812422647381| 90731|POLYGON ((-118.28...|\n",
      "|2969021|296902144000|2969021|1007|    44000|        Los Angeles|Los Angeles - San...|           San Pedro|296902|296902|2969021007|     31|         Harbor|       86|   44000|      12|     240| 03767|       8|      South Bay|       4|District 4|  221266.37712777738|2000.8267919182244| 90731|POLYGON ((-118.29...|\n",
      "|2969021|296902144000|2969021|1008|    44000|        Los Angeles|Los Angeles - San...|           San Pedro|296902|296902|2969021008|     31|         Harbor|        0|   44000|      13|       0| 03767|       8|      South Bay|       4|District 4|  221216.49649858917|2000.5234757559178| 90731|POLYGON ((-118.29...|\n",
      "|2969023|296902344000|2969023|3004|    44000|        Los Angeles|Los Angeles - San...|           San Pedro|296902|296902|2969023004|     31|         Harbor|        0|   44000|      14|       0| 03767|       8|      South Bay|       4|District 4|  221562.61494398979|2001.7971136503986| 90731|POLYGON ((-118.29...|\n",
      "|2970001|297000144000|2970001|1006|    44000|        Los Angeles|Los Angeles - San...|           San Pedro|297000|297000|2970001006|     31|         Harbor|       29|   44000|      15|      75| 03767|       8|      South Bay|       4|District 4|   255036.1420388833| 2478.871249391491| 90732|POLYGON ((-118.31...|\n",
      "|2971102|297110244000|2971102|2002|    44000|        Los Angeles|Los Angeles - San...|           San Pedro|297110|297110|2971102002|     31|         Harbor|       80|   44000|      16|     246| 03767|       8|      South Bay|       4|District 4|  217951.72074947492|1980.7439727731146| 90731|POLYGON ((-118.28...|\n",
      "|2969021|296902144000|2969021|1004|    44000|        Los Angeles|Los Angeles - San...|           San Pedro|296902|296902|2969021004|     31|         Harbor|       87|   44000|      17|     180| 03767|       8|      South Bay|       4|District 4|  221213.17128980905|2000.5064071332838| 90731|POLYGON ((-118.29...|\n",
      "|2971101|297110144000|2971101|1014|    44000|        Los Angeles|Los Angeles - San...|           San Pedro|297110|297110|2971101014|     31|         Harbor|        2|   44000|      18|     103| 03767|       8|      South Bay|       4|District 4|   92489.62611134311|1220.5701272623326| 90731|POLYGON ((-118.28...|\n",
      "|9800311|980031144000|9800311|1121|    44000|        Los Angeles|Los Angeles - San...|           San Pedro|980031|980031|9800311121|     31|         Harbor|        0|   44000|      19|       0| 03767|       8|      South Bay|       4|District 4|     455508.74968017|4059.1582983274634| 90731|POLYGON ((-118.27...|\n",
      "|2971101|297110144000|2971101|1009|    44000|        Los Angeles|Los Angeles - San...|           San Pedro|297110|297110|2971101009|     31|         Harbor|       43|   44000|      20|     111| 03767|       8|      South Bay|       4|District 4|  221158.80762476922| 2000.175243660427| 90731|POLYGON ((-118.28...|\n",
      "+-------+------------+-------+----+---------+-------------------+--------------------+--------------------+------+------+----------+-------+---------------+---------+--------+--------+--------+------+--------+---------------+--------+----------+--------------------+------------------+------+--------------------+\n",
      "only showing top 20 rows"
     ]
    }
   ],
   "source": [
    "import time\n",
    "from pyspark.sql.functions import format_number\n",
    "from pyspark.sql.window import Window\n",
    "\n",
    "start_time = time.time()\n",
    "police_stations = spark.read.csv(\"s3://initial-notebook-data-bucket-dblab-905418150721/LA_Police_Stations.csv\", header=True, inferSchema=True)\n",
    "police_stations = police_stations.withColumn('X', format_number('X', 10))  # Adjust the number of decimals as needed\n",
    "police_stations = police_stations.withColumn('Y', format_number('Y', 10))\n",
    "police_stations_df = police_stations.withColumn(\"geom\", ST_Point(col(\"X\"), col(\"Y\")))\n",
    "crime_df = df1.filter(\n",
    "    (F.col(\"longitude\") != 0) & (F.col(\"latitude\") != 0)\n",
    ")\n",
    "crime_df = crime_df.withColumnRenamed(\"geom\", \"crime_geom\")\n",
    "police_stations_df = police_stations_df.withColumnRenamed(\"geom\", \"police_geom\")\n",
    "\n",
    "joined_df = crime_df.crossJoin(police_stations_df)\n",
    "joined_df = joined_df.withColumn(\"distance\", ST_DistanceSphere(col(\"crime_geom\"), col(\"police_geom\"))/1000)\n",
    "joined_df = joined_df.select(\n",
    "     col(\"crime_id\").alias(\"crime_id\"),\n",
    "    col(\"distance\").alias(\"distance\"),\n",
    "    col(\"FID\").alias(\"police id\"),\n",
    "    col(\"DIVISION\").alias(\"division\")\n",
    ")\n",
    "\n",
    "joined_df = joined_df.orderBy(\"crime_id\")\n",
    "window_spec = Window.partitionBy(\"crime_id\").orderBy(\"distance\")\n",
    "df_with_rank = joined_df.withColumn(\"rank\", F.row_number().over(window_spec))\n",
    "filtered_df = df_with_rank.filter(F.col(\"rank\") == 1)\n",
    "filtered_df = filtered_df.orderBy(\"police id\")\n",
    "crime_count_and_avg_distance = filtered_df.groupBy(\"police id\", \"division\").agg(\n",
    "    F.count(\"crime_id\").alias(\"crime_count\"),\n",
    "    F.avg(\"distance\").alias(\"avg_distance\")\n",
    ")\n",
    "crime_count_and_avg_distance_sorted = crime_count_and_avg_distance.orderBy(F.col(\"crime_count\").desc())\n",
    "\n",
    "end_time = time.time()\n",
    "execution_time = end_time - start_time\n",
    "print(f\"Execution Time: {execution_time} seconds\")\n",
    "\n",
    "crime_count_and_avg_distance_sorted.show()\n"
   ]
  },
  {
   "cell_type": "code",
   "execution_count": null,
   "id": "eaefcaee-278a-45ab-a09f-1a5dec4a67d9",
   "metadata": {},
   "outputs": [],
   "source": [
    "%%configure -f\n",
    "{\n",
    "    \"conf\": {\n",
    "        \"spark.executor.instances\": \"2\",\n",
    "        \"spark.executor.memory\": \"8g\",\n",
    "        \"spark.executor.cores\": \"4\",\n",
    "        \"spark.driver.memory\": \"2g\"\n",
    "    }\n",
    "}"
   ]
  },
  {
   "cell_type": "code",
   "execution_count": null,
   "id": "51fe7111-37cc-4e6c-afd7-224b274377dc",
   "metadata": {},
   "outputs": [],
   "source": [
    "%%configure -f\n",
    "{\n",
    "    \"conf\": {\n",
    "        \"spark.executor.instances\": \"4\",\n",
    "        \"spark.executor.memory\": \"4g\",\n",
    "        \"spark.executor.cores\": \"2\",\n",
    "        \"spark.driver.memory\": \"2g\"\n",
    "    }\n",
    "}"
   ]
  },
  {
   "cell_type": "code",
   "execution_count": null,
   "id": "ec94245f-9cbb-49f3-845f-4a1049126024",
   "metadata": {},
   "outputs": [],
   "source": [
    "%%configure -f\n",
    "{\n",
    "    \"conf\": {\n",
    "        \"spark.executor.instances\": \"8\",\n",
    "        \"spark.executor.memory\": \"2g\",\n",
    "        \"spark.executor.cores\": \"1\",\n",
    "        \"spark.driver.memory\": \"2g\"\n",
    "    }\n",
    "}"
   ]
  }
 ],
 "metadata": {
  "kernelspec": {
   "display_name": "Sparkmagic (PySpark)",
   "language": "python",
   "name": "pysparkkernel"
  },
  "language_info": {
   "codemirror_mode": {
    "name": "python",
    "version": 3
   },
   "file_extension": ".py",
   "mimetype": "text/x-python",
   "name": "pyspark",
   "pygments_lexer": "python3"
  }
 },
 "nbformat": 4,
 "nbformat_minor": 5
}
